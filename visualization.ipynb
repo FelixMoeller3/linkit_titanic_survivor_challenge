{
 "cells": [
  {
   "cell_type": "markdown",
   "metadata": {},
   "source": [
    "## Imports"
   ]
  },
  {
   "cell_type": "code",
   "execution_count": 32,
   "metadata": {},
   "outputs": [],
   "source": [
    "import pandas as pd\n",
    "import numpy as np\n",
    "import matplotlib.pyplot as plt\n",
    "from sklearn.model_selection import train_test_split\n",
    "from sklearn.ensemble import IsolationForest\n",
    "from sklearn.metrics import accuracy_score\n",
    "from sklearn.model_selection import GridSearchCV\n",
    "from sklearn.ensemble import RandomForestRegressor\n",
    "from xgboost import XGBClassifier\n",
    "from sklearn.ensemble import BaggingClassifier\n",
    "from sklearn.svm import SVC\n",
    "import math\n",
    "from sklearn.linear_model import LinearRegression"
   ]
  },
  {
   "cell_type": "markdown",
   "metadata": {},
   "source": [
    "## Load Dataset"
   ]
  },
  {
   "cell_type": "code",
   "execution_count": 33,
   "metadata": {},
   "outputs": [],
   "source": [
    "train_data = pd.read_csv('Dataset/train.csv')\n",
    "\n",
    "submission_data = pd.read_csv('Dataset/test.csv')"
   ]
  },
  {
   "cell_type": "markdown",
   "metadata": {},
   "source": [
    "## Exploratory Data Analysis"
   ]
  },
  {
   "cell_type": "code",
   "execution_count": 34,
   "metadata": {},
   "outputs": [
    {
     "name": "stdout",
     "output_type": "stream",
     "text": [
      "Shape of train data:  (891, 12)\n"
     ]
    }
   ],
   "source": [
    "print('Shape of train data: ', train_data.shape)"
   ]
  },
  {
   "cell_type": "code",
   "execution_count": 35,
   "metadata": {},
   "outputs": [
    {
     "data": {
      "text/html": [
       "<div>\n",
       "<style scoped>\n",
       "    .dataframe tbody tr th:only-of-type {\n",
       "        vertical-align: middle;\n",
       "    }\n",
       "\n",
       "    .dataframe tbody tr th {\n",
       "        vertical-align: top;\n",
       "    }\n",
       "\n",
       "    .dataframe thead th {\n",
       "        text-align: right;\n",
       "    }\n",
       "</style>\n",
       "<table border=\"1\" class=\"dataframe\">\n",
       "  <thead>\n",
       "    <tr style=\"text-align: right;\">\n",
       "      <th></th>\n",
       "      <th>PassengerId</th>\n",
       "      <th>Survived</th>\n",
       "      <th>Pclass</th>\n",
       "      <th>Name</th>\n",
       "      <th>Sex</th>\n",
       "      <th>Age</th>\n",
       "      <th>SibSp</th>\n",
       "      <th>Parch</th>\n",
       "      <th>Ticket</th>\n",
       "      <th>Fare</th>\n",
       "      <th>Cabin</th>\n",
       "      <th>Embarked</th>\n",
       "    </tr>\n",
       "  </thead>\n",
       "  <tbody>\n",
       "    <tr>\n",
       "      <th>0</th>\n",
       "      <td>1</td>\n",
       "      <td>0</td>\n",
       "      <td>3</td>\n",
       "      <td>Braund, Mr. Owen Harris</td>\n",
       "      <td>male</td>\n",
       "      <td>22.0</td>\n",
       "      <td>1</td>\n",
       "      <td>0</td>\n",
       "      <td>A/5 21171</td>\n",
       "      <td>7.2500</td>\n",
       "      <td>NaN</td>\n",
       "      <td>S</td>\n",
       "    </tr>\n",
       "    <tr>\n",
       "      <th>1</th>\n",
       "      <td>2</td>\n",
       "      <td>1</td>\n",
       "      <td>1</td>\n",
       "      <td>Cumings, Mrs. John Bradley (Florence Briggs Th...</td>\n",
       "      <td>female</td>\n",
       "      <td>38.0</td>\n",
       "      <td>1</td>\n",
       "      <td>0</td>\n",
       "      <td>PC 17599</td>\n",
       "      <td>71.2833</td>\n",
       "      <td>C85</td>\n",
       "      <td>C</td>\n",
       "    </tr>\n",
       "    <tr>\n",
       "      <th>2</th>\n",
       "      <td>3</td>\n",
       "      <td>1</td>\n",
       "      <td>3</td>\n",
       "      <td>Heikkinen, Miss. Laina</td>\n",
       "      <td>female</td>\n",
       "      <td>26.0</td>\n",
       "      <td>0</td>\n",
       "      <td>0</td>\n",
       "      <td>STON/O2. 3101282</td>\n",
       "      <td>7.9250</td>\n",
       "      <td>NaN</td>\n",
       "      <td>S</td>\n",
       "    </tr>\n",
       "    <tr>\n",
       "      <th>3</th>\n",
       "      <td>4</td>\n",
       "      <td>1</td>\n",
       "      <td>1</td>\n",
       "      <td>Futrelle, Mrs. Jacques Heath (Lily May Peel)</td>\n",
       "      <td>female</td>\n",
       "      <td>35.0</td>\n",
       "      <td>1</td>\n",
       "      <td>0</td>\n",
       "      <td>113803</td>\n",
       "      <td>53.1000</td>\n",
       "      <td>C123</td>\n",
       "      <td>S</td>\n",
       "    </tr>\n",
       "    <tr>\n",
       "      <th>4</th>\n",
       "      <td>5</td>\n",
       "      <td>0</td>\n",
       "      <td>3</td>\n",
       "      <td>Allen, Mr. William Henry</td>\n",
       "      <td>male</td>\n",
       "      <td>35.0</td>\n",
       "      <td>0</td>\n",
       "      <td>0</td>\n",
       "      <td>373450</td>\n",
       "      <td>8.0500</td>\n",
       "      <td>NaN</td>\n",
       "      <td>S</td>\n",
       "    </tr>\n",
       "  </tbody>\n",
       "</table>\n",
       "</div>"
      ],
      "text/plain": [
       "   PassengerId  Survived  Pclass  \\\n",
       "0            1         0       3   \n",
       "1            2         1       1   \n",
       "2            3         1       3   \n",
       "3            4         1       1   \n",
       "4            5         0       3   \n",
       "\n",
       "                                                Name     Sex   Age  SibSp  \\\n",
       "0                            Braund, Mr. Owen Harris    male  22.0      1   \n",
       "1  Cumings, Mrs. John Bradley (Florence Briggs Th...  female  38.0      1   \n",
       "2                             Heikkinen, Miss. Laina  female  26.0      0   \n",
       "3       Futrelle, Mrs. Jacques Heath (Lily May Peel)  female  35.0      1   \n",
       "4                           Allen, Mr. William Henry    male  35.0      0   \n",
       "\n",
       "   Parch            Ticket     Fare Cabin Embarked  \n",
       "0      0         A/5 21171   7.2500   NaN        S  \n",
       "1      0          PC 17599  71.2833   C85        C  \n",
       "2      0  STON/O2. 3101282   7.9250   NaN        S  \n",
       "3      0            113803  53.1000  C123        S  \n",
       "4      0            373450   8.0500   NaN        S  "
      ]
     },
     "execution_count": 35,
     "metadata": {},
     "output_type": "execute_result"
    }
   ],
   "source": [
    "train_data.head()"
   ]
  },
  {
   "cell_type": "markdown",
   "metadata": {},
   "source": [
    "## Visualize Data"
   ]
  },
  {
   "cell_type": "markdown",
   "metadata": {},
   "source": [
    "### Fare"
   ]
  },
  {
   "cell_type": "code",
   "execution_count": 36,
   "metadata": {},
   "outputs": [
    {
     "data": {
      "text/plain": [
       "[]"
      ]
     },
     "execution_count": 36,
     "metadata": {},
     "output_type": "execute_result"
    },
    {
     "data": {
      "image/png": "[encoded data removed]",
      "text/plain": [
       "<Figure size 432x288 with 1 Axes>"
      ]
     },
     "metadata": {
      "needs_background": "light"
     },
     "output_type": "display_data"
    }
   ],
   "source": [
    "plt.hist(train_data[\"Fare\"], bins=50)\n",
    "plt.plot()"
   ]
  },
  {
   "cell_type": "markdown",
   "metadata": {},
   "source": [
    "### Embarked"
   ]
  },
  {
   "cell_type": "code",
   "execution_count": 37,
   "metadata": {},
   "outputs": [
    {
     "data": {
      "text/plain": [
       "[]"
      ]
     },
     "execution_count": 37,
     "metadata": {},
     "output_type": "execute_result"
    },
    {
     "data": {
      "image/png": "[encoded data removed]",
      "text/plain": [
       "<Figure size 432x288 with 1 Axes>"
      ]
     },
     "metadata": {
      "needs_background": "light"
     },
     "output_type": "display_data"
    }
   ],
   "source": [
    "data = train_data[\"Embarked\"].value_counts()\n",
    "labels = [\"Southhampton\", \"Cherbourg\", \"Queenstown\"]\n",
    "plt.xticks(range(len(labels)),labels)\n",
    "plt.xlabel(\"City of Departure\")\n",
    "plt.bar(range(len(data)), data, color=\"orange\")\n",
    "plt.plot()"
   ]
  },
  {
   "cell_type": "markdown",
   "metadata": {},
   "source": [
    "### Age"
   ]
  },
  {
   "cell_type": "code",
   "execution_count": 38,
   "metadata": {},
   "outputs": [
    {
     "data": {
      "text/plain": [
       "[]"
      ]
     },
     "execution_count": 38,
     "metadata": {},
     "output_type": "execute_result"
    },
    {
     "data": {
      "image/png": "[encoded data removed]",
      "text/plain": [
       "<Figure size 432x288 with 1 Axes>"
      ]
     },
     "metadata": {
      "needs_background": "light"
     },
     "output_type": "display_data"
    }
   ],
   "source": [
    "plt.hist(train_data[\"Age\"],bins=8)\n",
    "plt.plot()"
   ]
  },
  {
   "cell_type": "markdown",
   "metadata": {},
   "source": [
    "### Gender"
   ]
  },
  {
   "cell_type": "code",
   "execution_count": 39,
   "metadata": {},
   "outputs": [
    {
     "data": {
      "text/plain": [
       "[]"
      ]
     },
     "execution_count": 39,
     "metadata": {},
     "output_type": "execute_result"
    },
    {
     "data": {
      "image/png": "[encoded data removed]",
      "text/plain": [
       "<Figure size 432x288 with 1 Axes>"
      ]
     },
     "metadata": {
      "needs_background": "light"
     },
     "output_type": "display_data"
    }
   ],
   "source": [
    "female_passengers = len(train_data[train_data[\"Sex\"]==\"female\"])\n",
    "male_passengers = len(train_data[train_data[\"Sex\"]==\"male\"])\n",
    "data = [female_passengers,male_passengers]\n",
    "labels = [\"female\", \"male\"]\n",
    "plt.xticks(range(len(labels)),labels)\n",
    "plt.xlabel(\"Gender\")\n",
    "plt.bar(range(len(data)), data, color=\"green\")\n",
    "plt.plot()"
   ]
  },
  {
   "cell_type": "markdown",
   "metadata": {},
   "source": [
    "### Passenger Classes"
   ]
  },
  {
   "cell_type": "code",
   "execution_count": 40,
   "metadata": {},
   "outputs": [
    {
     "data": {
      "text/plain": [
       "[]"
      ]
     },
     "execution_count": 40,
     "metadata": {},
     "output_type": "execute_result"
    },
    {
     "data": {
      "image/png": "[encoded data removed]",
      "text/plain": [
       "<Figure size 432x288 with 1 Axes>"
      ]
     },
     "metadata": {},
     "output_type": "display_data"
    }
   ],
   "source": [
    "data = train_data[\"Pclass\"].value_counts()\n",
    "\n",
    "labels = [3,1,2]\n",
    "#plt.yticks(range(len(labels)),labels)\n",
    "#plt.ylabel(\"Passenger class\")\n",
    "plt.pie(x=data, labels=labels, autopct='%1.1f%%')\n",
    "plt.plot()"
   ]
  },
  {
   "cell_type": "markdown",
   "metadata": {},
   "source": [
    "### Survived"
   ]
  },
  {
   "cell_type": "code",
   "execution_count": 41,
   "metadata": {},
   "outputs": [
    {
     "data": {
      "text/plain": [
       "[]"
      ]
     },
     "execution_count": 41,
     "metadata": {},
     "output_type": "execute_result"
    },
    {
     "data": {
      "image/png": "[encoded data removed]",
      "text/plain": [
       "<Figure size 432x288 with 1 Axes>"
      ]
     },
     "metadata": {
      "needs_background": "light"
     },
     "output_type": "display_data"
    }
   ],
   "source": [
    "data = train_data[\"Survived\"].value_counts(sort=False)\n",
    "\n",
    "labels = [\"Died\", \"Survived\"]\n",
    "plt.yticks(range(len(labels)),labels)\n",
    "plt.barh(range(len(data)), data, color=\"orange\")\n",
    "plt.plot()"
   ]
  },
  {
   "cell_type": "code",
   "execution_count": 42,
   "metadata": {},
   "outputs": [
    {
     "name": "stdout",
     "output_type": "stream",
     "text": [
      "<class 'pandas.core.frame.DataFrame'>\n",
      "RangeIndex: 891 entries, 0 to 890\n",
      "Data columns (total 12 columns):\n",
      " #   Column       Non-Null Count  Dtype  \n",
      "---  ------       --------------  -----  \n",
      " 0   PassengerId  891 non-null    int64  \n",
      " 1   Survived     891 non-null    int64  \n",
      " 2   Pclass       891 non-null    int64  \n",
      " 3   Name         891 non-null    object \n",
      " 4   Sex          891 non-null    object \n",
      " 5   Age          714 non-null    float64\n",
      " 6   SibSp        891 non-null    int64  \n",
      " 7   Parch        891 non-null    int64  \n",
      " 8   Ticket       891 non-null    object \n",
      " 9   Fare         891 non-null    float64\n",
      " 10  Cabin        204 non-null    object \n",
      " 11  Embarked     889 non-null    object \n",
      "dtypes: float64(2), int64(5), object(5)\n",
      "memory usage: 83.7+ KB\n"
     ]
    }
   ],
   "source": [
    "train_data.info()"
   ]
  },
  {
   "cell_type": "markdown",
   "metadata": {},
   "source": [
    "As we can see, some columns contain virtually no null values while others (e.g. Cabin) contain a large number of null-values.\n",
    "Let's have a look at the survival rates by look at each category individually."
   ]
  },
  {
   "cell_type": "code",
   "execution_count": 43,
   "metadata": {},
   "outputs": [],
   "source": [
    "def plot_survivalRateByCategory(data,colnames):\n",
    "    fig, ax = plt.subplots(len(colnames), figsize=(8,10), constrained_layout=True)\n",
    "    # iterate through colnames\n",
    "    for idx,colname in enumerate(colnames):\n",
    "        # get mean and std dev for survival rates per category\n",
    "        survivalByCategory = data.groupby([colname])['Survived'].describe()\n",
    "        # number of differen categories\n",
    "        n_category = survivalByCategory.shape[0]\n",
    "        # plot one std dev confidence (confidence is capped between 0 and 1)\n",
    "        for i in range(n_category):\n",
    "            ax[idx].plot([i,i],\n",
    "                         np.minimum(np.maximum(survivalByCategory['mean'].iloc[i]+np.array([-1,1])*survivalByCategory['std'].iloc[i],0),1),\n",
    "                         'b');\n",
    "        # plot survival rate\n",
    "        ax[idx].plot(range(n_category),survivalByCategory['mean'],'bo', markersize=12);\n",
    "        plt.sca(ax[idx])\n",
    "        plt.xticks(np.array([-0.4]+ list(range(n_category)) + [n_category-1+.4]),\n",
    "                   ['']+list(survivalByCategory.index)+['']);\n",
    "        plt.yticks(np.arange(0,1.1,0.2),['']+[str(np.int8(s))+'%' for s in np.arange(.2,1.1,0.2)*100]);\n",
    "        plt.title('Survival Rate By {0}'.format(colname), size=16);\n",
    "    plt.show()"
   ]
  },
  {
   "cell_type": "code",
   "execution_count": 44,
   "metadata": {},
   "outputs": [
    {
     "data": {
      "image/png": "[encoded data removed]",
      "text/plain": [
       "<Figure size 576x720 with 5 Axes>"
      ]
     },
     "metadata": {
      "needs_background": "light"
     },
     "output_type": "display_data"
    }
   ],
   "source": [
    "plot_survivalRateByCategory(train_data,['Sex','Embarked','Pclass','SibSp','Parch'])"
   ]
  },
  {
   "cell_type": "markdown",
   "metadata": {},
   "source": [
    "We can see some expected relations and others which one might not expect. First of all, it is clear to see that the survival rate of females was significantly higher than the survival rate of males. In addition, a higher class correlates with a lower chance of survival. Both of these relations might not be so unexpected. However, that the survival rate of passengers who embarked at Cherbourg is so much higher than the survival rate of passengers who embarked at Southampton might not have been anticipated by everyone. This can be explained rather easily: The people who embarked in Cherbourg were mostly members of the social elite such as [Lucile Duff-Gordon and John Jacob Astor IV.][http://www.titanic-stories.de/pages/route.html]\n",
    "\n",
    "Now let's have a look a the continuous variables given."
   ]
  },
  {
   "cell_type": "code",
   "execution_count": 45,
   "metadata": {},
   "outputs": [],
   "source": [
    "def plot_survivalRateByContinousVar(data,colnames):\n",
    "    fig, ax = plt.subplots(len(colnames), figsize=(8,10), constrained_layout=True)\n",
    "    # iterate through colnames\n",
    "    for idx,colname in enumerate(colnames):\n",
    "        # plot scatter dots\n",
    "        ax[idx].scatter(train_data[colname],train_data['Survived'])\n",
    "        # plot means for survived and died\n",
    "        ax[idx].scatter(train_data.groupby(['Survived'])[colname].mean(),[0,1],c='red')\n",
    "        plt.sca(ax[idx])\n",
    "        plt.title('Scatterplot for {0}'.format(colname), size=16)\n",
    "        plt.yticks([-.1,0,1,1.1],['','Died','Survived',''])\n",
    "        plt.xlabel(colname)\n",
    "    plt.show()"
   ]
  },
  {
   "cell_type": "code",
   "execution_count": 46,
   "metadata": {},
   "outputs": [
    {
     "data": {
      "image/png": "[encoded data removed]",
      "text/plain": [
       "<Figure size 576x720 with 2 Axes>"
      ]
     },
     "metadata": {
      "needs_background": "light"
     },
     "output_type": "display_data"
    }
   ],
   "source": [
    "plot_survivalRateByContinousVar(train_data,['Fare','Age'])"
   ]
  },
  {
   "cell_type": "markdown",
   "metadata": {},
   "source": [
    "This plot reveals that people who payed more for their ticket had a higher chance of survival. It also seems like the people who survived were a little younger than those who died although the difference here is minor."
   ]
  },
  {
   "cell_type": "code",
   "execution_count": 47,
   "metadata": {},
   "outputs": [
    {
     "name": "stdout",
     "output_type": "stream",
     "text": [
      "Correlation Matrix:\n"
     ]
    },
    {
     "data": {
      "text/html": [
       "<style  type=\"text/css\" >\n",
       "    #T_dd73c6e0_60f4_11ec_83ae_acde48001122row0_col0 {\n",
       "            background-color:  #b40426;\n",
       "            color:  #f1f1f1;\n",
       "        }    #T_dd73c6e0_60f4_11ec_83ae_acde48001122row0_col1 {\n",
       "            background-color:  #8caffe;\n",
       "            color:  #000000;\n",
       "        }    #T_dd73c6e0_60f4_11ec_83ae_acde48001122row0_col2 {\n",
       "            background-color:  #a9c6fd;\n",
       "            color:  #000000;\n",
       "        }    #T_dd73c6e0_60f4_11ec_83ae_acde48001122row0_col3 {\n",
       "            background-color:  #9dbdff;\n",
       "            color:  #000000;\n",
       "        }    #T_dd73c6e0_60f4_11ec_83ae_acde48001122row0_col4 {\n",
       "            background-color:  #799cf8;\n",
       "            color:  #000000;\n",
       "        }    #T_dd73c6e0_60f4_11ec_83ae_acde48001122row0_col5 {\n",
       "            background-color:  #6c8ff1;\n",
       "            color:  #000000;\n",
       "        }    #T_dd73c6e0_60f4_11ec_83ae_acde48001122row0_col6 {\n",
       "            background-color:  #b3cdfb;\n",
       "            color:  #000000;\n",
       "        }    #T_dd73c6e0_60f4_11ec_83ae_acde48001122row1_col0 {\n",
       "            background-color:  #4961d2;\n",
       "            color:  #f1f1f1;\n",
       "        }    #T_dd73c6e0_60f4_11ec_83ae_acde48001122row1_col1 {\n",
       "            background-color:  #b40426;\n",
       "            color:  #f1f1f1;\n",
       "        }    #T_dd73c6e0_60f4_11ec_83ae_acde48001122row1_col2 {\n",
       "            background-color:  #6485ec;\n",
       "            color:  #000000;\n",
       "        }    #T_dd73c6e0_60f4_11ec_83ae_acde48001122row1_col3 {\n",
       "            background-color:  #80a3fa;\n",
       "            color:  #000000;\n",
       "        }    #T_dd73c6e0_60f4_11ec_83ae_acde48001122row1_col4 {\n",
       "            background-color:  #7ea1fa;\n",
       "            color:  #000000;\n",
       "        }    #T_dd73c6e0_60f4_11ec_83ae_acde48001122row1_col5 {\n",
       "            background-color:  #85a8fc;\n",
       "            color:  #000000;\n",
       "        }    #T_dd73c6e0_60f4_11ec_83ae_acde48001122row1_col6 {\n",
       "            background-color:  #e2dad5;\n",
       "            color:  #000000;\n",
       "        }    #T_dd73c6e0_60f4_11ec_83ae_acde48001122row2_col0 {\n",
       "            background-color:  #4055c8;\n",
       "            color:  #f1f1f1;\n",
       "        }    #T_dd73c6e0_60f4_11ec_83ae_acde48001122row2_col1 {\n",
       "            background-color:  #3b4cc0;\n",
       "            color:  #f1f1f1;\n",
       "        }    #T_dd73c6e0_60f4_11ec_83ae_acde48001122row2_col2 {\n",
       "            background-color:  #b40426;\n",
       "            color:  #f1f1f1;\n",
       "        }    #T_dd73c6e0_60f4_11ec_83ae_acde48001122row2_col3 {\n",
       "            background-color:  #3b4cc0;\n",
       "            color:  #f1f1f1;\n",
       "        }    #T_dd73c6e0_60f4_11ec_83ae_acde48001122row2_col4 {\n",
       "            background-color:  #9ebeff;\n",
       "            color:  #000000;\n",
       "        }    #T_dd73c6e0_60f4_11ec_83ae_acde48001122row2_col5 {\n",
       "            background-color:  #7295f4;\n",
       "            color:  #000000;\n",
       "        }    #T_dd73c6e0_60f4_11ec_83ae_acde48001122row2_col6 {\n",
       "            background-color:  #3b4cc0;\n",
       "            color:  #f1f1f1;\n",
       "        }    #T_dd73c6e0_60f4_11ec_83ae_acde48001122row3_col0 {\n",
       "            background-color:  #5572df;\n",
       "            color:  #000000;\n",
       "        }    #T_dd73c6e0_60f4_11ec_83ae_acde48001122row3_col1 {\n",
       "            background-color:  #799cf8;\n",
       "            color:  #000000;\n",
       "        }    #T_dd73c6e0_60f4_11ec_83ae_acde48001122row3_col2 {\n",
       "            background-color:  #5e7de7;\n",
       "            color:  #000000;\n",
       "        }    #T_dd73c6e0_60f4_11ec_83ae_acde48001122row3_col3 {\n",
       "            background-color:  #b40426;\n",
       "            color:  #f1f1f1;\n",
       "        }    #T_dd73c6e0_60f4_11ec_83ae_acde48001122row3_col4 {\n",
       "            background-color:  #3b4cc0;\n",
       "            color:  #f1f1f1;\n",
       "        }    #T_dd73c6e0_60f4_11ec_83ae_acde48001122row3_col5 {\n",
       "            background-color:  #3b4cc0;\n",
       "            color:  #f1f1f1;\n",
       "        }    #T_dd73c6e0_60f4_11ec_83ae_acde48001122row3_col6 {\n",
       "            background-color:  #c5d6f2;\n",
       "            color:  #000000;\n",
       "        }    #T_dd73c6e0_60f4_11ec_83ae_acde48001122row4_col0 {\n",
       "            background-color:  #3b4cc0;\n",
       "            color:  #f1f1f1;\n",
       "        }    #T_dd73c6e0_60f4_11ec_83ae_acde48001122row4_col1 {\n",
       "            background-color:  #84a7fc;\n",
       "            color:  #000000;\n",
       "        }    #T_dd73c6e0_60f4_11ec_83ae_acde48001122row4_col2 {\n",
       "            background-color:  #c3d5f4;\n",
       "            color:  #000000;\n",
       "        }    #T_dd73c6e0_60f4_11ec_83ae_acde48001122row4_col3 {\n",
       "            background-color:  #485fd1;\n",
       "            color:  #f1f1f1;\n",
       "        }    #T_dd73c6e0_60f4_11ec_83ae_acde48001122row4_col4 {\n",
       "            background-color:  #b40426;\n",
       "            color:  #f1f1f1;\n",
       "        }    #T_dd73c6e0_60f4_11ec_83ae_acde48001122row4_col5 {\n",
       "            background-color:  #dfdbd9;\n",
       "            color:  #000000;\n",
       "        }    #T_dd73c6e0_60f4_11ec_83ae_acde48001122row4_col6 {\n",
       "            background-color:  #d2dbe8;\n",
       "            color:  #000000;\n",
       "        }    #T_dd73c6e0_60f4_11ec_83ae_acde48001122row5_col0 {\n",
       "            background-color:  #4a63d3;\n",
       "            color:  #f1f1f1;\n",
       "        }    #T_dd73c6e0_60f4_11ec_83ae_acde48001122row5_col1 {\n",
       "            background-color:  #a3c2fe;\n",
       "            color:  #000000;\n",
       "        }    #T_dd73c6e0_60f4_11ec_83ae_acde48001122row5_col2 {\n",
       "            background-color:  #b5cdfa;\n",
       "            color:  #000000;\n",
       "        }    #T_dd73c6e0_60f4_11ec_83ae_acde48001122row5_col3 {\n",
       "            background-color:  #6384eb;\n",
       "            color:  #000000;\n",
       "        }    #T_dd73c6e0_60f4_11ec_83ae_acde48001122row5_col4 {\n",
       "            background-color:  #ead5c9;\n",
       "            color:  #000000;\n",
       "        }    #T_dd73c6e0_60f4_11ec_83ae_acde48001122row5_col5 {\n",
       "            background-color:  #b40426;\n",
       "            color:  #f1f1f1;\n",
       "        }    #T_dd73c6e0_60f4_11ec_83ae_acde48001122row5_col6 {\n",
       "            background-color:  #dbdcde;\n",
       "            color:  #000000;\n",
       "        }    #T_dd73c6e0_60f4_11ec_83ae_acde48001122row6_col0 {\n",
       "            background-color:  #4e68d8;\n",
       "            color:  #000000;\n",
       "        }    #T_dd73c6e0_60f4_11ec_83ae_acde48001122row6_col1 {\n",
       "            background-color:  #cdd9ec;\n",
       "            color:  #000000;\n",
       "        }    #T_dd73c6e0_60f4_11ec_83ae_acde48001122row6_col2 {\n",
       "            background-color:  #3b4cc0;\n",
       "            color:  #f1f1f1;\n",
       "        }    #T_dd73c6e0_60f4_11ec_83ae_acde48001122row6_col3 {\n",
       "            background-color:  #abc8fd;\n",
       "            color:  #000000;\n",
       "        }    #T_dd73c6e0_60f4_11ec_83ae_acde48001122row6_col4 {\n",
       "            background-color:  #b2ccfb;\n",
       "            color:  #000000;\n",
       "        }    #T_dd73c6e0_60f4_11ec_83ae_acde48001122row6_col5 {\n",
       "            background-color:  #adc9fd;\n",
       "            color:  #000000;\n",
       "        }    #T_dd73c6e0_60f4_11ec_83ae_acde48001122row6_col6 {\n",
       "            background-color:  #b40426;\n",
       "            color:  #f1f1f1;\n",
       "        }</style><table id=\"T_dd73c6e0_60f4_11ec_83ae_acde48001122\" ><thead>    <tr>        <th class=\"blank level0\" ></th>        <th class=\"col_heading level0 col0\" >PassengerId</th>        <th class=\"col_heading level0 col1\" >Survived</th>        <th class=\"col_heading level0 col2\" >Pclass</th>        <th class=\"col_heading level0 col3\" >Age</th>        <th class=\"col_heading level0 col4\" >SibSp</th>        <th class=\"col_heading level0 col5\" >Parch</th>        <th class=\"col_heading level0 col6\" >Fare</th>    </tr></thead><tbody>\n",
       "                <tr>\n",
       "                        <th id=\"T_dd73c6e0_60f4_11ec_83ae_acde48001122level0_row0\" class=\"row_heading level0 row0\" >PassengerId</th>\n",
       "                        <td id=\"T_dd73c6e0_60f4_11ec_83ae_acde48001122row0_col0\" class=\"data row0 col0\" >1.000000</td>\n",
       "                        <td id=\"T_dd73c6e0_60f4_11ec_83ae_acde48001122row0_col1\" class=\"data row0 col1\" >-0.005007</td>\n",
       "                        <td id=\"T_dd73c6e0_60f4_11ec_83ae_acde48001122row0_col2\" class=\"data row0 col2\" >-0.035144</td>\n",
       "                        <td id=\"T_dd73c6e0_60f4_11ec_83ae_acde48001122row0_col3\" class=\"data row0 col3\" >0.036847</td>\n",
       "                        <td id=\"T_dd73c6e0_60f4_11ec_83ae_acde48001122row0_col4\" class=\"data row0 col4\" >-0.057527</td>\n",
       "                        <td id=\"T_dd73c6e0_60f4_11ec_83ae_acde48001122row0_col5\" class=\"data row0 col5\" >-0.001652</td>\n",
       "                        <td id=\"T_dd73c6e0_60f4_11ec_83ae_acde48001122row0_col6\" class=\"data row0 col6\" >0.012658</td>\n",
       "            </tr>\n",
       "            <tr>\n",
       "                        <th id=\"T_dd73c6e0_60f4_11ec_83ae_acde48001122level0_row1\" class=\"row_heading level0 row1\" >Survived</th>\n",
       "                        <td id=\"T_dd73c6e0_60f4_11ec_83ae_acde48001122row1_col0\" class=\"data row1 col0\" >-0.005007</td>\n",
       "                        <td id=\"T_dd73c6e0_60f4_11ec_83ae_acde48001122row1_col1\" class=\"data row1 col1\" >1.000000</td>\n",
       "                        <td id=\"T_dd73c6e0_60f4_11ec_83ae_acde48001122row1_col2\" class=\"data row1 col2\" >-0.338481</td>\n",
       "                        <td id=\"T_dd73c6e0_60f4_11ec_83ae_acde48001122row1_col3\" class=\"data row1 col3\" >-0.077221</td>\n",
       "                        <td id=\"T_dd73c6e0_60f4_11ec_83ae_acde48001122row1_col4\" class=\"data row1 col4\" >-0.035322</td>\n",
       "                        <td id=\"T_dd73c6e0_60f4_11ec_83ae_acde48001122row1_col5\" class=\"data row1 col5\" >0.081629</td>\n",
       "                        <td id=\"T_dd73c6e0_60f4_11ec_83ae_acde48001122row1_col6\" class=\"data row1 col6\" >0.257307</td>\n",
       "            </tr>\n",
       "            <tr>\n",
       "                        <th id=\"T_dd73c6e0_60f4_11ec_83ae_acde48001122level0_row2\" class=\"row_heading level0 row2\" >Pclass</th>\n",
       "                        <td id=\"T_dd73c6e0_60f4_11ec_83ae_acde48001122row2_col0\" class=\"data row2 col0\" >-0.035144</td>\n",
       "                        <td id=\"T_dd73c6e0_60f4_11ec_83ae_acde48001122row2_col1\" class=\"data row2 col1\" >-0.338481</td>\n",
       "                        <td id=\"T_dd73c6e0_60f4_11ec_83ae_acde48001122row2_col2\" class=\"data row2 col2\" >1.000000</td>\n",
       "                        <td id=\"T_dd73c6e0_60f4_11ec_83ae_acde48001122row2_col3\" class=\"data row2 col3\" >-0.369226</td>\n",
       "                        <td id=\"T_dd73c6e0_60f4_11ec_83ae_acde48001122row2_col4\" class=\"data row2 col4\" >0.083081</td>\n",
       "                        <td id=\"T_dd73c6e0_60f4_11ec_83ae_acde48001122row2_col5\" class=\"data row2 col5\" >0.018443</td>\n",
       "                        <td id=\"T_dd73c6e0_60f4_11ec_83ae_acde48001122row2_col6\" class=\"data row2 col6\" >-0.549500</td>\n",
       "            </tr>\n",
       "            <tr>\n",
       "                        <th id=\"T_dd73c6e0_60f4_11ec_83ae_acde48001122level0_row3\" class=\"row_heading level0 row3\" >Age</th>\n",
       "                        <td id=\"T_dd73c6e0_60f4_11ec_83ae_acde48001122row3_col0\" class=\"data row3 col0\" >0.036847</td>\n",
       "                        <td id=\"T_dd73c6e0_60f4_11ec_83ae_acde48001122row3_col1\" class=\"data row3 col1\" >-0.077221</td>\n",
       "                        <td id=\"T_dd73c6e0_60f4_11ec_83ae_acde48001122row3_col2\" class=\"data row3 col2\" >-0.369226</td>\n",
       "                        <td id=\"T_dd73c6e0_60f4_11ec_83ae_acde48001122row3_col3\" class=\"data row3 col3\" >1.000000</td>\n",
       "                        <td id=\"T_dd73c6e0_60f4_11ec_83ae_acde48001122row3_col4\" class=\"data row3 col4\" >-0.308247</td>\n",
       "                        <td id=\"T_dd73c6e0_60f4_11ec_83ae_acde48001122row3_col5\" class=\"data row3 col5\" >-0.189119</td>\n",
       "                        <td id=\"T_dd73c6e0_60f4_11ec_83ae_acde48001122row3_col6\" class=\"data row3 col6\" >0.096067</td>\n",
       "            </tr>\n",
       "            <tr>\n",
       "                        <th id=\"T_dd73c6e0_60f4_11ec_83ae_acde48001122level0_row4\" class=\"row_heading level0 row4\" >SibSp</th>\n",
       "                        <td id=\"T_dd73c6e0_60f4_11ec_83ae_acde48001122row4_col0\" class=\"data row4 col0\" >-0.057527</td>\n",
       "                        <td id=\"T_dd73c6e0_60f4_11ec_83ae_acde48001122row4_col1\" class=\"data row4 col1\" >-0.035322</td>\n",
       "                        <td id=\"T_dd73c6e0_60f4_11ec_83ae_acde48001122row4_col2\" class=\"data row4 col2\" >0.083081</td>\n",
       "                        <td id=\"T_dd73c6e0_60f4_11ec_83ae_acde48001122row4_col3\" class=\"data row4 col3\" >-0.308247</td>\n",
       "                        <td id=\"T_dd73c6e0_60f4_11ec_83ae_acde48001122row4_col4\" class=\"data row4 col4\" >1.000000</td>\n",
       "                        <td id=\"T_dd73c6e0_60f4_11ec_83ae_acde48001122row4_col5\" class=\"data row4 col5\" >0.414838</td>\n",
       "                        <td id=\"T_dd73c6e0_60f4_11ec_83ae_acde48001122row4_col6\" class=\"data row4 col6\" >0.159651</td>\n",
       "            </tr>\n",
       "            <tr>\n",
       "                        <th id=\"T_dd73c6e0_60f4_11ec_83ae_acde48001122level0_row5\" class=\"row_heading level0 row5\" >Parch</th>\n",
       "                        <td id=\"T_dd73c6e0_60f4_11ec_83ae_acde48001122row5_col0\" class=\"data row5 col0\" >-0.001652</td>\n",
       "                        <td id=\"T_dd73c6e0_60f4_11ec_83ae_acde48001122row5_col1\" class=\"data row5 col1\" >0.081629</td>\n",
       "                        <td id=\"T_dd73c6e0_60f4_11ec_83ae_acde48001122row5_col2\" class=\"data row5 col2\" >0.018443</td>\n",
       "                        <td id=\"T_dd73c6e0_60f4_11ec_83ae_acde48001122row5_col3\" class=\"data row5 col3\" >-0.189119</td>\n",
       "                        <td id=\"T_dd73c6e0_60f4_11ec_83ae_acde48001122row5_col4\" class=\"data row5 col4\" >0.414838</td>\n",
       "                        <td id=\"T_dd73c6e0_60f4_11ec_83ae_acde48001122row5_col5\" class=\"data row5 col5\" >1.000000</td>\n",
       "                        <td id=\"T_dd73c6e0_60f4_11ec_83ae_acde48001122row5_col6\" class=\"data row5 col6\" >0.216225</td>\n",
       "            </tr>\n",
       "            <tr>\n",
       "                        <th id=\"T_dd73c6e0_60f4_11ec_83ae_acde48001122level0_row6\" class=\"row_heading level0 row6\" >Fare</th>\n",
       "                        <td id=\"T_dd73c6e0_60f4_11ec_83ae_acde48001122row6_col0\" class=\"data row6 col0\" >0.012658</td>\n",
       "                        <td id=\"T_dd73c6e0_60f4_11ec_83ae_acde48001122row6_col1\" class=\"data row6 col1\" >0.257307</td>\n",
       "                        <td id=\"T_dd73c6e0_60f4_11ec_83ae_acde48001122row6_col2\" class=\"data row6 col2\" >-0.549500</td>\n",
       "                        <td id=\"T_dd73c6e0_60f4_11ec_83ae_acde48001122row6_col3\" class=\"data row6 col3\" >0.096067</td>\n",
       "                        <td id=\"T_dd73c6e0_60f4_11ec_83ae_acde48001122row6_col4\" class=\"data row6 col4\" >0.159651</td>\n",
       "                        <td id=\"T_dd73c6e0_60f4_11ec_83ae_acde48001122row6_col5\" class=\"data row6 col5\" >0.216225</td>\n",
       "                        <td id=\"T_dd73c6e0_60f4_11ec_83ae_acde48001122row6_col6\" class=\"data row6 col6\" >1.000000</td>\n",
       "            </tr>\n",
       "    </tbody></table>"
      ],
      "text/plain": [
       "<pandas.io.formats.style.Styler at 0x7fcf9d8a8400>"
      ]
     },
     "execution_count": 47,
     "metadata": {},
     "output_type": "execute_result"
    }
   ],
   "source": [
    "print('Correlation Matrix:')\n",
    "corr = train_data.corr()\n",
    "corr.style.background_gradient(cmap='coolwarm')"
   ]
  },
  {
   "cell_type": "code",
   "execution_count": 48,
   "metadata": {},
   "outputs": [
    {
     "data": {
      "text/plain": [
       "PassengerId   -0.005007\n",
       "Survived       1.000000\n",
       "Pclass        -0.338481\n",
       "Age           -0.077221\n",
       "SibSp         -0.035322\n",
       "Parch          0.081629\n",
       "Fare           0.257307\n",
       "Name: Survived, dtype: float64"
      ]
     },
     "execution_count": 48,
     "metadata": {},
     "output_type": "execute_result"
    }
   ],
   "source": [
    "corr_survived = corr[\"Survived\"]\n",
    "corr_survived"
   ]
  },
  {
   "cell_type": "markdown",
   "metadata": {},
   "source": [
    "Here we can see that a passenger's class and his fare were the best predictors for his/her survival (when looking at the numerical columns only)."
   ]
  },
  {
   "cell_type": "markdown",
   "metadata": {},
   "source": [
    "## Data Preprocessing"
   ]
  },
  {
   "cell_type": "markdown",
   "metadata": {},
   "source": [
    "### Remove uninformative rows "
   ]
  },
  {
   "cell_type": "code",
   "execution_count": 49,
   "metadata": {},
   "outputs": [
    {
     "data": {
      "text/html": [
       "<div>\n",
       "<style scoped>\n",
       "    .dataframe tbody tr th:only-of-type {\n",
       "        vertical-align: middle;\n",
       "    }\n",
       "\n",
       "    .dataframe tbody tr th {\n",
       "        vertical-align: top;\n",
       "    }\n",
       "\n",
       "    .dataframe thead th {\n",
       "        text-align: right;\n",
       "    }\n",
       "</style>\n",
       "<table border=\"1\" class=\"dataframe\">\n",
       "  <thead>\n",
       "    <tr style=\"text-align: right;\">\n",
       "      <th></th>\n",
       "      <th>PassengerId</th>\n",
       "      <th>Survived</th>\n",
       "      <th>Pclass</th>\n",
       "      <th>Name</th>\n",
       "      <th>Sex</th>\n",
       "      <th>Age</th>\n",
       "      <th>SibSp</th>\n",
       "      <th>Parch</th>\n",
       "      <th>Ticket</th>\n",
       "      <th>Fare</th>\n",
       "      <th>Cabin</th>\n",
       "      <th>Embarked</th>\n",
       "    </tr>\n",
       "  </thead>\n",
       "  <tbody>\n",
       "    <tr>\n",
       "      <th>0</th>\n",
       "      <td>1</td>\n",
       "      <td>0</td>\n",
       "      <td>3</td>\n",
       "      <td>Braund, Mr. Owen Harris</td>\n",
       "      <td>male</td>\n",
       "      <td>22.0</td>\n",
       "      <td>1</td>\n",
       "      <td>0</td>\n",
       "      <td>A/5 21171</td>\n",
       "      <td>7.2500</td>\n",
       "      <td>NaN</td>\n",
       "      <td>S</td>\n",
       "    </tr>\n",
       "    <tr>\n",
       "      <th>1</th>\n",
       "      <td>2</td>\n",
       "      <td>1</td>\n",
       "      <td>1</td>\n",
       "      <td>Cumings, Mrs. John Bradley (Florence Briggs Th...</td>\n",
       "      <td>female</td>\n",
       "      <td>38.0</td>\n",
       "      <td>1</td>\n",
       "      <td>0</td>\n",
       "      <td>PC 17599</td>\n",
       "      <td>71.2833</td>\n",
       "      <td>C85</td>\n",
       "      <td>C</td>\n",
       "    </tr>\n",
       "    <tr>\n",
       "      <th>2</th>\n",
       "      <td>3</td>\n",
       "      <td>1</td>\n",
       "      <td>3</td>\n",
       "      <td>Heikkinen, Miss. Laina</td>\n",
       "      <td>female</td>\n",
       "      <td>26.0</td>\n",
       "      <td>0</td>\n",
       "      <td>0</td>\n",
       "      <td>STON/O2. 3101282</td>\n",
       "      <td>7.9250</td>\n",
       "      <td>NaN</td>\n",
       "      <td>S</td>\n",
       "    </tr>\n",
       "  </tbody>\n",
       "</table>\n",
       "</div>"
      ],
      "text/plain": [
       "   PassengerId  Survived  Pclass  \\\n",
       "0            1         0       3   \n",
       "1            2         1       1   \n",
       "2            3         1       3   \n",
       "\n",
       "                                                Name     Sex   Age  SibSp  \\\n",
       "0                            Braund, Mr. Owen Harris    male  22.0      1   \n",
       "1  Cumings, Mrs. John Bradley (Florence Briggs Th...  female  38.0      1   \n",
       "2                             Heikkinen, Miss. Laina  female  26.0      0   \n",
       "\n",
       "   Parch            Ticket     Fare Cabin Embarked  \n",
       "0      0         A/5 21171   7.2500   NaN        S  \n",
       "1      0          PC 17599  71.2833   C85        C  \n",
       "2      0  STON/O2. 3101282   7.9250   NaN        S  "
      ]
     },
     "execution_count": 49,
     "metadata": {},
     "output_type": "execute_result"
    }
   ],
   "source": [
    "train_data.head(3)"
   ]
  },
  {
   "cell_type": "markdown",
   "metadata": {},
   "source": [
    "Obviously passengerid and name can be dropped. We additionally decided to drop the column ticket because the were so many different names and the fare of a ticket somewhat represents the type of ticket that a person bought. We also dropped the column Cabin because it is uninformative in our opinion, especially because it contains so many NaN values."
   ]
  },
  {
   "cell_type": "code",
   "execution_count": 50,
   "metadata": {},
   "outputs": [],
   "source": [
    "# drop columns from both train and test sample\n",
    "train_data.drop(['PassengerId','Name','Ticket','Cabin'], axis=1, inplace=True)\n",
    "submission_data.drop(['PassengerId','Name','Ticket','Cabin'], axis=1, inplace=True)"
   ]
  },
  {
   "cell_type": "markdown",
   "metadata": {},
   "source": [
    "### Handling NaNs\n",
    "First we count how many NaN entries we have for each column."
   ]
  },
  {
   "cell_type": "code",
   "execution_count": 51,
   "metadata": {},
   "outputs": [
    {
     "data": {
      "text/plain": [
       "Survived      0\n",
       "Pclass        0\n",
       "Sex           0\n",
       "Age         177\n",
       "SibSp         0\n",
       "Parch         0\n",
       "Fare          0\n",
       "Embarked      2\n",
       "dtype: int64"
      ]
     },
     "execution_count": 51,
     "metadata": {},
     "output_type": "execute_result"
    }
   ],
   "source": [
    "train_data.isnull().sum()"
   ]
  },
  {
   "cell_type": "markdown",
   "metadata": {},
   "source": [
    "For now we will just replace the missing age with its mean and drop the two rows where \"embarked\" is missing"
   ]
  },
  {
   "cell_type": "code",
   "execution_count": 52,
   "metadata": {},
   "outputs": [],
   "source": [
    "train_data.loc[train_data['Age'].isna(),'Age'] = train_data['Age'].mean()\n",
    "train_data.dropna(inplace=True)"
   ]
  },
  {
   "cell_type": "markdown",
   "metadata": {},
   "source": [
    "Double check if there are any NaN values left"
   ]
  },
  {
   "cell_type": "code",
   "execution_count": 53,
   "metadata": {},
   "outputs": [
    {
     "data": {
      "text/plain": [
       "Survived    0\n",
       "Pclass      0\n",
       "Sex         0\n",
       "Age         0\n",
       "SibSp       0\n",
       "Parch       0\n",
       "Fare        0\n",
       "Embarked    0\n",
       "dtype: int64"
      ]
     },
     "execution_count": 53,
     "metadata": {},
     "output_type": "execute_result"
    }
   ],
   "source": [
    "train_data.isnull().isna().sum()"
   ]
  },
  {
   "cell_type": "markdown",
   "metadata": {},
   "source": [
    "### Prepare data for modeling\n",
    "We will label-encode the sex column first and later use one-hot encoding for the embarked column"
   ]
  },
  {
   "cell_type": "code",
   "execution_count": 54,
   "metadata": {},
   "outputs": [],
   "source": [
    "train_data['Sex'].replace({'male':0, 'female':1}, inplace=True)\n",
    "submission_data['Sex'].replace({'male':0, 'female':1}, inplace=True)"
   ]
  },
  {
   "cell_type": "code",
   "execution_count": 55,
   "metadata": {},
   "outputs": [
    {
     "data": {
      "text/html": [
       "<div>\n",
       "<style scoped>\n",
       "    .dataframe tbody tr th:only-of-type {\n",
       "        vertical-align: middle;\n",
       "    }\n",
       "\n",
       "    .dataframe tbody tr th {\n",
       "        vertical-align: top;\n",
       "    }\n",
       "\n",
       "    .dataframe thead th {\n",
       "        text-align: right;\n",
       "    }\n",
       "</style>\n",
       "<table border=\"1\" class=\"dataframe\">\n",
       "  <thead>\n",
       "    <tr style=\"text-align: right;\">\n",
       "      <th></th>\n",
       "      <th>Survived</th>\n",
       "      <th>Pclass</th>\n",
       "      <th>Sex</th>\n",
       "      <th>Age</th>\n",
       "      <th>SibSp</th>\n",
       "      <th>Parch</th>\n",
       "      <th>Fare</th>\n",
       "      <th>Embarked_C</th>\n",
       "      <th>Embarked_Q</th>\n",
       "      <th>Embarked_S</th>\n",
       "    </tr>\n",
       "  </thead>\n",
       "  <tbody>\n",
       "    <tr>\n",
       "      <th>0</th>\n",
       "      <td>0</td>\n",
       "      <td>3</td>\n",
       "      <td>0</td>\n",
       "      <td>22.000000</td>\n",
       "      <td>1</td>\n",
       "      <td>0</td>\n",
       "      <td>7.2500</td>\n",
       "      <td>0</td>\n",
       "      <td>0</td>\n",
       "      <td>1</td>\n",
       "    </tr>\n",
       "    <tr>\n",
       "      <th>1</th>\n",
       "      <td>1</td>\n",
       "      <td>1</td>\n",
       "      <td>1</td>\n",
       "      <td>38.000000</td>\n",
       "      <td>1</td>\n",
       "      <td>0</td>\n",
       "      <td>71.2833</td>\n",
       "      <td>1</td>\n",
       "      <td>0</td>\n",
       "      <td>0</td>\n",
       "    </tr>\n",
       "    <tr>\n",
       "      <th>2</th>\n",
       "      <td>1</td>\n",
       "      <td>3</td>\n",
       "      <td>1</td>\n",
       "      <td>26.000000</td>\n",
       "      <td>0</td>\n",
       "      <td>0</td>\n",
       "      <td>7.9250</td>\n",
       "      <td>0</td>\n",
       "      <td>0</td>\n",
       "      <td>1</td>\n",
       "    </tr>\n",
       "    <tr>\n",
       "      <th>3</th>\n",
       "      <td>1</td>\n",
       "      <td>1</td>\n",
       "      <td>1</td>\n",
       "      <td>35.000000</td>\n",
       "      <td>1</td>\n",
       "      <td>0</td>\n",
       "      <td>53.1000</td>\n",
       "      <td>0</td>\n",
       "      <td>0</td>\n",
       "      <td>1</td>\n",
       "    </tr>\n",
       "    <tr>\n",
       "      <th>4</th>\n",
       "      <td>0</td>\n",
       "      <td>3</td>\n",
       "      <td>0</td>\n",
       "      <td>35.000000</td>\n",
       "      <td>0</td>\n",
       "      <td>0</td>\n",
       "      <td>8.0500</td>\n",
       "      <td>0</td>\n",
       "      <td>0</td>\n",
       "      <td>1</td>\n",
       "    </tr>\n",
       "    <tr>\n",
       "      <th>...</th>\n",
       "      <td>...</td>\n",
       "      <td>...</td>\n",
       "      <td>...</td>\n",
       "      <td>...</td>\n",
       "      <td>...</td>\n",
       "      <td>...</td>\n",
       "      <td>...</td>\n",
       "      <td>...</td>\n",
       "      <td>...</td>\n",
       "      <td>...</td>\n",
       "    </tr>\n",
       "    <tr>\n",
       "      <th>886</th>\n",
       "      <td>0</td>\n",
       "      <td>2</td>\n",
       "      <td>0</td>\n",
       "      <td>27.000000</td>\n",
       "      <td>0</td>\n",
       "      <td>0</td>\n",
       "      <td>13.0000</td>\n",
       "      <td>0</td>\n",
       "      <td>0</td>\n",
       "      <td>1</td>\n",
       "    </tr>\n",
       "    <tr>\n",
       "      <th>887</th>\n",
       "      <td>1</td>\n",
       "      <td>1</td>\n",
       "      <td>1</td>\n",
       "      <td>19.000000</td>\n",
       "      <td>0</td>\n",
       "      <td>0</td>\n",
       "      <td>30.0000</td>\n",
       "      <td>0</td>\n",
       "      <td>0</td>\n",
       "      <td>1</td>\n",
       "    </tr>\n",
       "    <tr>\n",
       "      <th>888</th>\n",
       "      <td>0</td>\n",
       "      <td>3</td>\n",
       "      <td>1</td>\n",
       "      <td>29.699118</td>\n",
       "      <td>1</td>\n",
       "      <td>2</td>\n",
       "      <td>23.4500</td>\n",
       "      <td>0</td>\n",
       "      <td>0</td>\n",
       "      <td>1</td>\n",
       "    </tr>\n",
       "    <tr>\n",
       "      <th>889</th>\n",
       "      <td>1</td>\n",
       "      <td>1</td>\n",
       "      <td>0</td>\n",
       "      <td>26.000000</td>\n",
       "      <td>0</td>\n",
       "      <td>0</td>\n",
       "      <td>30.0000</td>\n",
       "      <td>1</td>\n",
       "      <td>0</td>\n",
       "      <td>0</td>\n",
       "    </tr>\n",
       "    <tr>\n",
       "      <th>890</th>\n",
       "      <td>0</td>\n",
       "      <td>3</td>\n",
       "      <td>0</td>\n",
       "      <td>32.000000</td>\n",
       "      <td>0</td>\n",
       "      <td>0</td>\n",
       "      <td>7.7500</td>\n",
       "      <td>0</td>\n",
       "      <td>1</td>\n",
       "      <td>0</td>\n",
       "    </tr>\n",
       "  </tbody>\n",
       "</table>\n",
       "<p>889 rows × 10 columns</p>\n",
       "</div>"
      ],
      "text/plain": [
       "     Survived  Pclass  Sex        Age  SibSp  Parch     Fare  Embarked_C  \\\n",
       "0           0       3    0  22.000000      1      0   7.2500           0   \n",
       "1           1       1    1  38.000000      1      0  71.2833           1   \n",
       "2           1       3    1  26.000000      0      0   7.9250           0   \n",
       "3           1       1    1  35.000000      1      0  53.1000           0   \n",
       "4           0       3    0  35.000000      0      0   8.0500           0   \n",
       "..        ...     ...  ...        ...    ...    ...      ...         ...   \n",
       "886         0       2    0  27.000000      0      0  13.0000           0   \n",
       "887         1       1    1  19.000000      0      0  30.0000           0   \n",
       "888         0       3    1  29.699118      1      2  23.4500           0   \n",
       "889         1       1    0  26.000000      0      0  30.0000           1   \n",
       "890         0       3    0  32.000000      0      0   7.7500           0   \n",
       "\n",
       "     Embarked_Q  Embarked_S  \n",
       "0             0           1  \n",
       "1             0           0  \n",
       "2             0           1  \n",
       "3             0           1  \n",
       "4             0           1  \n",
       "..          ...         ...  \n",
       "886           0           1  \n",
       "887           0           1  \n",
       "888           0           1  \n",
       "889           0           0  \n",
       "890           1           0  \n",
       "\n",
       "[889 rows x 10 columns]"
      ]
     },
     "execution_count": 55,
     "metadata": {},
     "output_type": "execute_result"
    }
   ],
   "source": [
    "train_data = pd.get_dummies(train_data)\n",
    "submission_data = pd.get_dummies(submission_data)\n",
    "train_data"
   ]
  },
  {
   "cell_type": "markdown",
   "metadata": {},
   "source": [
    "Now we have all our columns in the right format"
   ]
  },
  {
   "cell_type": "code",
   "execution_count": 56,
   "metadata": {},
   "outputs": [],
   "source": [
    "y_full = train_data[\"Survived\"]\n",
    "X_full = train_data.drop(\"Survived\",axis=1)"
   ]
  },
  {
   "cell_type": "markdown",
   "metadata": {},
   "source": [
    "### Train test split"
   ]
  },
  {
   "cell_type": "code",
   "execution_count": 57,
   "metadata": {},
   "outputs": [],
   "source": [
    "X_train, X_test, y_train, y_test = train_test_split(\n",
    "    X_full, y_full, stratify=y_full, random_state=538974\n",
    ")"
   ]
  },
  {
   "cell_type": "markdown",
   "metadata": {},
   "source": [
    "### Handling outliers\n",
    "Isolation forests detect outliers based on topology. If we have only very few splits for some observations in many ensemble trees the observations of this leaf is very likely to be an outlier. Now let's get into it:"
   ]
  },
  {
   "cell_type": "markdown",
   "metadata": {},
   "source": [
    "Let's say just one 2% of the data are outliers"
   ]
  },
  {
   "cell_type": "code",
   "execution_count": 58,
   "metadata": {},
   "outputs": [],
   "source": [
    "iso_forest = IsolationForest(n_estimators=100, contamination=0.02).fit(pd.concat([y_train,X_train], axis=1))\n",
    "outlier_idx = iso_forest.predict(pd.concat([y_train,X_train], axis=1))==-1"
   ]
  },
  {
   "cell_type": "markdown",
   "metadata": {},
   "source": [
    "Now let's remove the outliers..."
   ]
  },
  {
   "cell_type": "code",
   "execution_count": 59,
   "metadata": {},
   "outputs": [],
   "source": [
    "tmp_idx = np.logical_not(outlier_idx)\n",
    "X_clean_train, y_clean_train = X_train.iloc[tmp_idx,:], y_train[tmp_idx]"
   ]
  },
  {
   "cell_type": "markdown",
   "metadata": {},
   "source": [
    "And double check"
   ]
  },
  {
   "cell_type": "code",
   "execution_count": 60,
   "metadata": {},
   "outputs": [
    {
     "data": {
      "text/plain": [
       "((652, 9), (666, 9))"
      ]
     },
     "execution_count": 60,
     "metadata": {},
     "output_type": "execute_result"
    }
   ],
   "source": [
    "X_clean_train.shape, X_train.shape"
   ]
  },
  {
   "cell_type": "markdown",
   "metadata": {},
   "source": [
    "## Train the model(s)"
   ]
  },
  {
   "cell_type": "code",
   "execution_count": 61,
   "metadata": {},
   "outputs": [],
   "source": [
    "# write function that predicts with and without outliers\n",
    "def outlierDropPerformance(clf, X_train, X_train_clean, X_test, y_train, y_train_clean, y_test, round_acc=7):\n",
    "    # fit for complete data\n",
    "    clf.fit(X_train,y_train)\n",
    "    # predict\n",
    "    pred = clf.predict(X_test)\n",
    "    # accuracy\n",
    "    acc = accuracy_score(y_test, np.round(pred))\n",
    "    print('Accuracy for complete data: ' + str(np.round(acc, round_acc)))\n",
    "    \n",
    "    # fit with removed outliers\n",
    "    clf.fit(X_train_clean,y_train_clean)\n",
    "    # predict\n",
    "    pred_rmOutlier = clf.predict(X_test)\n",
    "    # accuracy\n",
    "    acc_rmOutlier = accuracy_score(y_test, np.round(pred_rmOutlier))\n",
    "    print('Accuracy with removed outliers: ' + str(np.round(acc_rmOutlier, round_acc)))\n",
    "    \n",
    "    return pred, pred_rmOutlier"
   ]
  },
  {
   "cell_type": "markdown",
   "metadata": {},
   "source": [
    "### 1. Random Forest\n",
    "With random forests we can use the full dataset because bootstrap samples include in mean only 66% of the data in one tree. With the remaining (called out-of-bag) we predict the accuracy. Unfortunatley the OOB score can not be compared to other accuracy scores, that's why we decided to also perform the train test accuracy."
   ]
  },
  {
   "cell_type": "code",
   "execution_count": 62,
   "metadata": {},
   "outputs": [
    {
     "name": "stdout",
     "output_type": "stream",
     "text": [
      "Accuracy for complete data: 0.7892377\n",
      "Accuracy with removed outliers: 0.8026906\n"
     ]
    }
   ],
   "source": [
    "rf = RandomForestRegressor(n_estimators = 200, random_state = 42)\n",
    "\n",
    "# compare models and outlier drop performace\n",
    "pred_rf, pred_rf_rmOutl = outlierDropPerformance(rf,X_train, X_clean_train, X_test, \n",
    "                                                 y_train, y_clean_train, y_test)"
   ]
  },
  {
   "cell_type": "markdown",
   "metadata": {},
   "source": [
    "### 2. XGBoost"
   ]
  },
  {
   "cell_type": "code",
   "execution_count": 63,
   "metadata": {},
   "outputs": [],
   "source": [
    "xgb = XGBClassifier(use_label_encoder=False,\n",
    "                    eval_metric='logloss')\n",
    "\n",
    "# compare models and outlier drop performace\n",
    "pred_xgb, pred_xgb_rmOutl = outlierDropPerformance(xgb,X_train, X_clean_train, X_test, \n",
    "                                                   y_train, y_clean_train, y_test)"
   ]
  },
  {
   "cell_type": "markdown",
   "metadata": {},
   "source": [
    "Now we will use grid search to hopefully find parameter values with a better accuracy"
   ]
  },
  {
   "cell_type": "code",
   "execution_count": null,
   "metadata": {},
   "outputs": [],
   "source": [
    "# set potential parameters\n",
    "\n",
    "parameters = {'eta':[.1,.2,.3],         # learning rate/ step size\n",
    "              'max_depth':[4,6],      # max depth of sub tree\n",
    "              'reg_lambda':[.5,1,2,10], # l2 regularization\n",
    "              'reg_alpha':[0,.5,1,10]}  # l1 regularization\n",
    "clf = GridSearchCV(xgb, parameters)"
   ]
  },
  {
   "cell_type": "code",
   "execution_count": null,
   "metadata": {},
   "outputs": [
    {
     "data": {
      "text/plain": [
       "{'eta': 0.1, 'max_depth': 4, 'reg_alpha': 1, 'reg_lambda': 10}"
      ]
     },
     "execution_count": 107,
     "metadata": {},
     "output_type": "execute_result"
    }
   ],
   "source": [
    "clf.fit(X_train,y_train)"
   ]
  },
  {
   "cell_type": "code",
   "execution_count": null,
   "metadata": {},
   "outputs": [
    {
     "data": {
      "text/plain": [
       "{'eta': 0.1, 'max_depth': 4, 'reg_alpha': 1, 'reg_lambda': 10}"
      ]
     },
     "execution_count": 108,
     "metadata": {},
     "output_type": "execute_result"
    }
   ],
   "source": [
    "clf.best_params_"
   ]
  },
  {
   "cell_type": "code",
   "execution_count": null,
   "metadata": {},
   "outputs": [
    {
     "name": "stdout",
     "output_type": "stream",
     "text": [
      "Accuracy for complete data: 0.8026906\n",
      "Accuracy with removed outliers: 0.8026906\n"
     ]
    }
   ],
   "source": [
    "# Init classifier\n",
    "xgb_param_opt = XGBClassifier(eta=clf.best_params_['eta'],\n",
    "                              eval_metric='logloss',\n",
    "                              max_depth=clf.best_params_['max_depth'],\n",
    "                              reg_alpha=clf.best_params_['reg_alpha'],\n",
    "                              reg_lambda=clf.best_params_['reg_lambda'],\n",
    "                              use_label_encoder=False)\n",
    "\n",
    "# compare models and outlier drop performace\n",
    "pred_xgbOpt, pred_xgbOpt_rmOutl = outlierDropPerformance(xgb_param_opt,X_train, X_clean_train, X_test, \n",
    "                                                         y_train, y_clean_train, y_test)"
   ]
  },
  {
   "cell_type": "markdown",
   "metadata": {},
   "source": [
    "As we can see our accuracy has slightly improved with parameter optimization"
   ]
  },
  {
   "cell_type": "markdown",
   "metadata": {},
   "source": [
    "### 3. Combining XGBoost with Bagging\n",
    "Bagging is the combination of bootstrap and aggregating. With bootstrap we basically create new datasets. We say that the initial dataset is the population and we are able to sample from it with replacement. In mean, we a bootstrap sample includes around 2/3 of the initial data and the rest are dublicates. For every bootstrap sample, we estimate a model, predict values, and aggregate all predicted values of all different bootstrap samples. In theory, this should reduce the variance of the estimator.\n",
    "\n",
    "Let's first write the function on our own to understand what's going on."
   ]
  },
  {
   "cell_type": "code",
   "execution_count": null,
   "metadata": {},
   "outputs": [],
   "source": [
    "def bagging(classifier, X_train, X_test, y_train, bootstrap_samples=500):\n",
    "    \n",
    "    # get number of observations\n",
    "    N_Xtrain = X_train.shape[0]\n",
    "    \n",
    "    # matrix version of df for faster performance\n",
    "    Xtrain = np.copy(X_train)\n",
    "    ytrain = np.copy(y_train)\n",
    "    \n",
    "    # get array of indices which bootstrap samples should be used\n",
    "    bootstrap_idx = np.random.randint(low=0, high=N_Xtrain, size=(N_Xtrain,bootstrap_samples))\n",
    "    \n",
    "    # initialize prediction vector\n",
    "    bagg_full = np.empty((y_test.shape[0],bootstrap_samples))\n",
    "    \n",
    "    # train for each bootstrap sample one XGBoost machine\n",
    "    for boot_id in range(bootstrap_samples):\n",
    "        # Fit XGB for bootstrap sample \"boot_id\"\n",
    "        classifier.fit(Xtrain[bootstrap_idx[:,boot_id],:], ytrain[bootstrap_idx[:,boot_id]])\n",
    "\n",
    "        # Predict\n",
    "        bagg_full[:,boot_id] = classifier.predict(X_test)\n",
    "        \n",
    "    return np.mean(bagg_full, axis=1)"
   ]
  },
  {
   "cell_type": "code",
   "execution_count": null,
   "metadata": {},
   "outputs": [],
   "source": [
    "pred_xgb_bagg = bagging(xgb, X_train, X_test, y_train, bootstrap_samples=200)"
   ]
  },
  {
   "cell_type": "code",
   "execution_count": null,
   "metadata": {},
   "outputs": [],
   "source": [
    "xgb_bagg = BaggingClassifier(XGBClassifier(use_label_encoder=False,\n",
    "                                               eval_metric='logloss'),\n",
    "                             n_estimators=200)\n",
    "# Fit\n",
    "xgb_bagg.fit(X_train, y_train)\n",
    "# Predict\n",
    "pred_xgb_bagg_new = xgb_bagg.predict(X_test)"
   ]
  },
  {
   "cell_type": "code",
   "execution_count": null,
   "metadata": {},
   "outputs": [
    {
     "name": "stdout",
     "output_type": "stream",
     "text": [
      "Self written function          0.8026906\n",
      "Professional written function  0.8251121\n"
     ]
    }
   ],
   "source": [
    "print('Self written function          ' + str(np.round(accuracy_score(y_test,np.round(pred_xgb_bagg)),7)))\n",
    "\n",
    "print('Professional written function  ' + str(np.round(accuracy_score(y_test,pred_xgb_bagg_new),7)))"
   ]
  },
  {
   "cell_type": "markdown",
   "metadata": {},
   "source": [
    "Thus, we take the professional written function which also saves all the bagging trees and is a little faster. The differences in accuracy can be explained due to random seeds.\n",
    "\n",
    "Now let's compare the bagging versions of the default xgb model vs. the input parameter optimized xgb model"
   ]
  },
  {
   "cell_type": "code",
   "execution_count": null,
   "metadata": {},
   "outputs": [
    {
     "name": "stdout",
     "output_type": "stream",
     "text": [
      "Accuracy for complete data: 0.8251121\n",
      "Accuracy with removed outliers: 0.8251121\n"
     ]
    }
   ],
   "source": [
    "pred_xgbBagg, pred_xgbBagg_rmOutl = outlierDropPerformance(xgb_bagg,X_train, X_clean_train, X_test, \n",
    "                                                           y_train, y_clean_train, y_test)"
   ]
  },
  {
   "cell_type": "code",
   "execution_count": null,
   "metadata": {},
   "outputs": [
    {
     "name": "stdout",
     "output_type": "stream",
     "text": [
      "Accuracy for complete data: 0.8251121\n",
      "Accuracy with removed outliers: 0.8206278\n"
     ]
    }
   ],
   "source": [
    "xgbOpt_bagg = BaggingClassifier(XGBClassifier(eta=0.1,\n",
    "                                              eval_metric='logloss',\n",
    "                                              max_depth=6,\n",
    "                                              reg_alpha=1,\n",
    "                                              reg_lambda=2,\n",
    "                                              use_label_encoder=False),\n",
    "                                 n_estimators=200)\n",
    "\n",
    "# compare models and outlier drop performace\n",
    "pred_xgbOptBagg, pred_xgbOptBagg_rmOutl = outlierDropPerformance(xgb_bagg,X_train, X_clean_train, X_test, \n",
    "                                                                 y_train, y_clean_train, y_test)"
   ]
  },
  {
   "cell_type": "markdown",
   "metadata": {},
   "source": [
    "### 4. Support Vector Machine"
   ]
  },
  {
   "cell_type": "code",
   "execution_count": null,
   "metadata": {},
   "outputs": [],
   "source": [
    "parameters = {'kernel':('linear', 'rbf'), 'C':[1, 10]}\n",
    "svc = SVC()\n",
    "clf = GridSearchCV(svc, parameters)\n",
    "\n",
    "# fit model\n",
    "clf.fit(X_train,y_train)"
   ]
  },
  {
   "cell_type": "code",
   "execution_count": null,
   "metadata": {},
   "outputs": [],
   "source": [
    "clf.best_params_"
   ]
  },
  {
   "cell_type": "code",
   "execution_count": null,
   "metadata": {},
   "outputs": [],
   "source": [
    "svm = SVC(kernel='linear', C=1)\n",
    "# compare models and outlier drop performace\n",
    "pred_svm, pred_svm_rmOutl = outlierDropPerformance(svm,X_train, X_clean_train, X_test, \n",
    "                                                   y_train, y_clean_train, y_test)"
   ]
  },
  {
   "cell_type": "code",
   "execution_count": null,
   "metadata": {},
   "outputs": [],
   "source": [
    "# combine SVM with bagging \n",
    "# (SVM takes much longer than Trees so drastically reduce the number of estimators!)\n",
    "svm_bagg = BaggingClassifier(SVC(kernel='linear', \n",
    "                                 C=1),\n",
    "                             n_estimators=10)\n",
    "pred_svmBagg, pred_svmBagg_rmOutl = outlierDropPerformance(svm_bagg,X_train, X_clean_train, X_test, \n",
    "                                                           y_train, y_clean_train, y_test)"
   ]
  },
  {
   "cell_type": "markdown",
   "metadata": {},
   "source": [
    "### 5. Combination of bagged estimators"
   ]
  },
  {
   "cell_type": "code",
   "execution_count": null,
   "metadata": {},
   "outputs": [
    {
     "data": {
      "text/plain": [
       "0.820627802690583"
      ]
     },
     "execution_count": 119,
     "metadata": {},
     "output_type": "execute_result"
    }
   ],
   "source": [
    "# now combine estimators\n",
    "pred_stack = np.mean(np.vstack((pred_rf_rmOutl,\n",
    "                                #pred_svmBagg_rmOutl,\n",
    "                                #pred_xgbBagg_rmOutl,\n",
    "                                pred_xgbOptBagg_rmOutl)),axis=0)\n",
    "\n",
    "# get accuracy\n",
    "accuracy_score(y_test,np.round(pred_stack))"
   ]
  },
  {
   "cell_type": "markdown",
   "metadata": {},
   "source": [
    "## Submission\n",
    "Since we got the best results with w"
   ]
  },
  {
   "cell_type": "code",
   "execution_count": 31,
   "metadata": {},
   "outputs": [
    {
     "ename": "NameError",
     "evalue": "name 'pred_xgb_bagg_new' is not defined",
     "output_type": "error",
     "traceback": [
      "\u001b[0;31m---------------------------------------------------------------------------\u001b[0m",
      "\u001b[0;31mNameError\u001b[0m                                 Traceback (most recent call last)",
      "\u001b[0;32m<ipython-input-31-2b965dba127d>\u001b[0m in \u001b[0;36m<module>\u001b[0;34m\u001b[0m\n\u001b[0;32m----> 1\u001b[0;31m \u001b[0mpred_xgb_bagg_new\u001b[0m\u001b[0;34m\u001b[0m\u001b[0;34m\u001b[0m\u001b[0m\n\u001b[0m",
      "\u001b[0;31mNameError\u001b[0m: name 'pred_xgb_bagg_new' is not defined"
     ]
    }
   ],
   "source": [
    "pred_xgb_bagg_new"
   ]
  }
 ],
 "metadata": {
  "kernelspec": {
   "display_name": "netdissect_env",
   "language": "python",
   "name": "netdissect_env"
  },
  "language_info": {
   "codemirror_mode": {
    "name": "ipython",
    "version": 3
   },
   "file_extension": ".py",
   "mimetype": "text/x-python",
   "name": "python",
   "nbconvert_exporter": "python",
   "pygments_lexer": "ipython3",
   "version": "3.8.5"
  },
  "orig_nbformat": 4
 },
 "nbformat": 4,
 "nbformat_minor": 2
}
