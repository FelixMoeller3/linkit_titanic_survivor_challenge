{
 "cells": [
  {
   "cell_type": "code",
   "execution_count": 362,
   "metadata": {},
   "outputs": [],
   "source": [
    "import numpy as np\n",
    "import pandas as pd\n",
    "import matplotlib.pyplot as plt\n",
    "\n",
    "from IPython.display import clear_output"
   ]
  },
  {
   "cell_type": "code",
   "execution_count": 363,
   "metadata": {},
   "outputs": [],
   "source": [
    "df_train = pd.read_csv('Data/train.csv')\n",
    "df_test = pd.read_csv('Data/test.csv')\n",
    "df_train.pop('PassengerId')\n",
    "df_test.pop('PassengerId')\n",
    "clear_output()"
   ]
  },
  {
   "cell_type": "code",
   "execution_count": 364,
   "metadata": {},
   "outputs": [
    {
     "data": {
      "text/html": [
       "<div>\n",
       "<style scoped>\n",
       "    .dataframe tbody tr th:only-of-type {\n",
       "        vertical-align: middle;\n",
       "    }\n",
       "\n",
       "    .dataframe tbody tr th {\n",
       "        vertical-align: top;\n",
       "    }\n",
       "\n",
       "    .dataframe thead th {\n",
       "        text-align: right;\n",
       "    }\n",
       "</style>\n",
       "<table border=\"1\" class=\"dataframe\">\n",
       "  <thead>\n",
       "    <tr style=\"text-align: right;\">\n",
       "      <th></th>\n",
       "      <th>Survived</th>\n",
       "      <th>Pclass</th>\n",
       "      <th>Name</th>\n",
       "      <th>Sex</th>\n",
       "      <th>Age</th>\n",
       "      <th>SibSp</th>\n",
       "      <th>Parch</th>\n",
       "      <th>Ticket</th>\n",
       "      <th>Fare</th>\n",
       "      <th>Cabin</th>\n",
       "      <th>Embarked</th>\n",
       "    </tr>\n",
       "  </thead>\n",
       "  <tbody>\n",
       "    <tr>\n",
       "      <th>0</th>\n",
       "      <td>0</td>\n",
       "      <td>3</td>\n",
       "      <td>Braund, Mr. Owen Harris</td>\n",
       "      <td>male</td>\n",
       "      <td>22.0</td>\n",
       "      <td>1</td>\n",
       "      <td>0</td>\n",
       "      <td>A/5 21171</td>\n",
       "      <td>7.2500</td>\n",
       "      <td>NaN</td>\n",
       "      <td>S</td>\n",
       "    </tr>\n",
       "    <tr>\n",
       "      <th>1</th>\n",
       "      <td>1</td>\n",
       "      <td>1</td>\n",
       "      <td>Cumings, Mrs. John Bradley (Florence Briggs Th...</td>\n",
       "      <td>female</td>\n",
       "      <td>38.0</td>\n",
       "      <td>1</td>\n",
       "      <td>0</td>\n",
       "      <td>PC 17599</td>\n",
       "      <td>71.2833</td>\n",
       "      <td>C85</td>\n",
       "      <td>C</td>\n",
       "    </tr>\n",
       "    <tr>\n",
       "      <th>2</th>\n",
       "      <td>1</td>\n",
       "      <td>3</td>\n",
       "      <td>Heikkinen, Miss. Laina</td>\n",
       "      <td>female</td>\n",
       "      <td>26.0</td>\n",
       "      <td>0</td>\n",
       "      <td>0</td>\n",
       "      <td>STON/O2. 3101282</td>\n",
       "      <td>7.9250</td>\n",
       "      <td>NaN</td>\n",
       "      <td>S</td>\n",
       "    </tr>\n",
       "    <tr>\n",
       "      <th>3</th>\n",
       "      <td>1</td>\n",
       "      <td>1</td>\n",
       "      <td>Futrelle, Mrs. Jacques Heath (Lily May Peel)</td>\n",
       "      <td>female</td>\n",
       "      <td>35.0</td>\n",
       "      <td>1</td>\n",
       "      <td>0</td>\n",
       "      <td>113803</td>\n",
       "      <td>53.1000</td>\n",
       "      <td>C123</td>\n",
       "      <td>S</td>\n",
       "    </tr>\n",
       "    <tr>\n",
       "      <th>4</th>\n",
       "      <td>0</td>\n",
       "      <td>3</td>\n",
       "      <td>Allen, Mr. William Henry</td>\n",
       "      <td>male</td>\n",
       "      <td>35.0</td>\n",
       "      <td>0</td>\n",
       "      <td>0</td>\n",
       "      <td>373450</td>\n",
       "      <td>8.0500</td>\n",
       "      <td>NaN</td>\n",
       "      <td>S</td>\n",
       "    </tr>\n",
       "  </tbody>\n",
       "</table>\n",
       "</div>"
      ],
      "text/plain": [
       "   Survived  Pclass                                               Name  \\\n",
       "0         0       3                            Braund, Mr. Owen Harris   \n",
       "1         1       1  Cumings, Mrs. John Bradley (Florence Briggs Th...   \n",
       "2         1       3                             Heikkinen, Miss. Laina   \n",
       "3         1       1       Futrelle, Mrs. Jacques Heath (Lily May Peel)   \n",
       "4         0       3                           Allen, Mr. William Henry   \n",
       "\n",
       "      Sex   Age  SibSp  Parch            Ticket     Fare Cabin Embarked  \n",
       "0    male  22.0      1      0         A/5 21171   7.2500   NaN        S  \n",
       "1  female  38.0      1      0          PC 17599  71.2833   C85        C  \n",
       "2  female  26.0      0      0  STON/O2. 3101282   7.9250   NaN        S  \n",
       "3  female  35.0      1      0            113803  53.1000  C123        S  \n",
       "4    male  35.0      0      0            373450   8.0500   NaN        S  "
      ]
     },
     "execution_count": 364,
     "metadata": {},
     "output_type": "execute_result"
    }
   ],
   "source": [
    "df_train.head()"
   ]
  },
  {
   "cell_type": "code",
   "execution_count": 365,
   "metadata": {},
   "outputs": [
    {
     "name": "stdout",
     "output_type": "stream",
     "text": [
      "Index(['Survived', 'Pclass', 'Name', 'Sex', 'Age', 'SibSp', 'Parch', 'Ticket',\n",
      "       'Fare', 'Cabin', 'Embarked'],\n",
      "      dtype='object')\n"
     ]
    }
   ],
   "source": [
    "print(df_train.keys())"
   ]
  },
  {
   "cell_type": "markdown",
   "metadata": {},
   "source": [
    "## Get to know the data"
   ]
  },
  {
   "cell_type": "code",
   "execution_count": 366,
   "metadata": {},
   "outputs": [
    {
     "data": {
      "text/plain": [
       "<AxesSubplot:>"
      ]
     },
     "execution_count": 366,
     "metadata": {},
     "output_type": "execute_result"
    },
    {
     "data": {
      "image/png": "[encoded data removed]",
      "text/plain": [
       "<Figure size 432x288 with 1 Axes>"
      ]
     },
     "metadata": {
      "needs_background": "light"
     },
     "output_type": "display_data"
    }
   ],
   "source": [
    "df_train['Age'].hist(bins=20)"
   ]
  },
  {
   "cell_type": "code",
   "execution_count": 367,
   "metadata": {},
   "outputs": [
    {
     "data": {
      "text/plain": [
       "<AxesSubplot:title={'center':'Classes'}, ylabel='Pclass'>"
      ]
     },
     "execution_count": 367,
     "metadata": {},
     "output_type": "execute_result"
    },
    {
     "data": {
      "image/png": "[encoded data removed]",
      "text/plain": [
       "<Figure size 432x288 with 1 Axes>"
      ]
     },
     "metadata": {},
     "output_type": "display_data"
    }
   ],
   "source": [
    "df_train['Pclass'].value_counts(ascending=True).plot(title='Classes', kind='pie', autopct='%1.1f%%')"
   ]
  },
  {
   "cell_type": "code",
   "execution_count": 368,
   "metadata": {},
   "outputs": [
    {
     "data": {
      "text/plain": [
       "<AxesSubplot:title={'center':'Sex'}>"
      ]
     },
     "execution_count": 368,
     "metadata": {},
     "output_type": "execute_result"
    },
    {
     "data": {
      "image/png": "[encoded data removed]",
      "text/plain": [
       "<Figure size 432x288 with 1 Axes>"
      ]
     },
     "metadata": {
      "needs_background": "light"
     },
     "output_type": "display_data"
    }
   ],
   "source": [
    "df_train['Sex'].value_counts().plot(title='Sex', kind='barh')"
   ]
  },
  {
   "cell_type": "code",
   "execution_count": 369,
   "metadata": {},
   "outputs": [
    {
     "name": "stdout",
     "output_type": "stream",
     "text": [
      "Correlation Matrix:\n"
     ]
    },
    {
     "data": {
      "text/html": [
       "<style  type=\"text/css\" >\n",
       "#T_4c3024c4_60f1_11ec_91c9_d0509988693erow0_col0,#T_4c3024c4_60f1_11ec_91c9_d0509988693erow1_col1,#T_4c3024c4_60f1_11ec_91c9_d0509988693erow2_col2,#T_4c3024c4_60f1_11ec_91c9_d0509988693erow3_col3,#T_4c3024c4_60f1_11ec_91c9_d0509988693erow4_col4,#T_4c3024c4_60f1_11ec_91c9_d0509988693erow5_col5{\n",
       "            background-color:  #b40426;\n",
       "            color:  #f1f1f1;\n",
       "        }#T_4c3024c4_60f1_11ec_91c9_d0509988693erow0_col1{\n",
       "            background-color:  #6485ec;\n",
       "            color:  #000000;\n",
       "        }#T_4c3024c4_60f1_11ec_91c9_d0509988693erow0_col2{\n",
       "            background-color:  #80a3fa;\n",
       "            color:  #000000;\n",
       "        }#T_4c3024c4_60f1_11ec_91c9_d0509988693erow0_col3{\n",
       "            background-color:  #7ea1fa;\n",
       "            color:  #000000;\n",
       "        }#T_4c3024c4_60f1_11ec_91c9_d0509988693erow0_col4{\n",
       "            background-color:  #85a8fc;\n",
       "            color:  #000000;\n",
       "        }#T_4c3024c4_60f1_11ec_91c9_d0509988693erow0_col5{\n",
       "            background-color:  #e2dad5;\n",
       "            color:  #000000;\n",
       "        }#T_4c3024c4_60f1_11ec_91c9_d0509988693erow1_col0,#T_4c3024c4_60f1_11ec_91c9_d0509988693erow1_col2,#T_4c3024c4_60f1_11ec_91c9_d0509988693erow1_col5,#T_4c3024c4_60f1_11ec_91c9_d0509988693erow2_col3,#T_4c3024c4_60f1_11ec_91c9_d0509988693erow2_col4,#T_4c3024c4_60f1_11ec_91c9_d0509988693erow5_col1{\n",
       "            background-color:  #3b4cc0;\n",
       "            color:  #f1f1f1;\n",
       "        }#T_4c3024c4_60f1_11ec_91c9_d0509988693erow1_col3{\n",
       "            background-color:  #9ebeff;\n",
       "            color:  #000000;\n",
       "        }#T_4c3024c4_60f1_11ec_91c9_d0509988693erow1_col4{\n",
       "            background-color:  #7295f4;\n",
       "            color:  #000000;\n",
       "        }#T_4c3024c4_60f1_11ec_91c9_d0509988693erow2_col0{\n",
       "            background-color:  #799cf8;\n",
       "            color:  #000000;\n",
       "        }#T_4c3024c4_60f1_11ec_91c9_d0509988693erow2_col1{\n",
       "            background-color:  #5e7de7;\n",
       "            color:  #000000;\n",
       "        }#T_4c3024c4_60f1_11ec_91c9_d0509988693erow2_col5{\n",
       "            background-color:  #c5d6f2;\n",
       "            color:  #000000;\n",
       "        }#T_4c3024c4_60f1_11ec_91c9_d0509988693erow3_col0{\n",
       "            background-color:  #84a7fc;\n",
       "            color:  #000000;\n",
       "        }#T_4c3024c4_60f1_11ec_91c9_d0509988693erow3_col1{\n",
       "            background-color:  #c3d5f4;\n",
       "            color:  #000000;\n",
       "        }#T_4c3024c4_60f1_11ec_91c9_d0509988693erow3_col2{\n",
       "            background-color:  #485fd1;\n",
       "            color:  #f1f1f1;\n",
       "        }#T_4c3024c4_60f1_11ec_91c9_d0509988693erow3_col4{\n",
       "            background-color:  #dfdbd9;\n",
       "            color:  #000000;\n",
       "        }#T_4c3024c4_60f1_11ec_91c9_d0509988693erow3_col5{\n",
       "            background-color:  #d2dbe8;\n",
       "            color:  #000000;\n",
       "        }#T_4c3024c4_60f1_11ec_91c9_d0509988693erow4_col0{\n",
       "            background-color:  #a3c2fe;\n",
       "            color:  #000000;\n",
       "        }#T_4c3024c4_60f1_11ec_91c9_d0509988693erow4_col1{\n",
       "            background-color:  #b5cdfa;\n",
       "            color:  #000000;\n",
       "        }#T_4c3024c4_60f1_11ec_91c9_d0509988693erow4_col2{\n",
       "            background-color:  #6384eb;\n",
       "            color:  #000000;\n",
       "        }#T_4c3024c4_60f1_11ec_91c9_d0509988693erow4_col3{\n",
       "            background-color:  #ead5c9;\n",
       "            color:  #000000;\n",
       "        }#T_4c3024c4_60f1_11ec_91c9_d0509988693erow4_col5{\n",
       "            background-color:  #dbdcde;\n",
       "            color:  #000000;\n",
       "        }#T_4c3024c4_60f1_11ec_91c9_d0509988693erow5_col0{\n",
       "            background-color:  #cdd9ec;\n",
       "            color:  #000000;\n",
       "        }#T_4c3024c4_60f1_11ec_91c9_d0509988693erow5_col2{\n",
       "            background-color:  #abc8fd;\n",
       "            color:  #000000;\n",
       "        }#T_4c3024c4_60f1_11ec_91c9_d0509988693erow5_col3{\n",
       "            background-color:  #b2ccfb;\n",
       "            color:  #000000;\n",
       "        }#T_4c3024c4_60f1_11ec_91c9_d0509988693erow5_col4{\n",
       "            background-color:  #adc9fd;\n",
       "            color:  #000000;\n",
       "        }</style><table id=\"T_4c3024c4_60f1_11ec_91c9_d0509988693e\" ><thead>    <tr>        <th class=\"blank level0\" ></th>        <th class=\"col_heading level0 col0\" >Survived</th>        <th class=\"col_heading level0 col1\" >Pclass</th>        <th class=\"col_heading level0 col2\" >Age</th>        <th class=\"col_heading level0 col3\" >SibSp</th>        <th class=\"col_heading level0 col4\" >Parch</th>        <th class=\"col_heading level0 col5\" >Fare</th>    </tr></thead><tbody>\n",
       "                <tr>\n",
       "                        <th id=\"T_4c3024c4_60f1_11ec_91c9_d0509988693elevel0_row0\" class=\"row_heading level0 row0\" >Survived</th>\n",
       "                        <td id=\"T_4c3024c4_60f1_11ec_91c9_d0509988693erow0_col0\" class=\"data row0 col0\" >1.000000</td>\n",
       "                        <td id=\"T_4c3024c4_60f1_11ec_91c9_d0509988693erow0_col1\" class=\"data row0 col1\" >-0.338481</td>\n",
       "                        <td id=\"T_4c3024c4_60f1_11ec_91c9_d0509988693erow0_col2\" class=\"data row0 col2\" >-0.077221</td>\n",
       "                        <td id=\"T_4c3024c4_60f1_11ec_91c9_d0509988693erow0_col3\" class=\"data row0 col3\" >-0.035322</td>\n",
       "                        <td id=\"T_4c3024c4_60f1_11ec_91c9_d0509988693erow0_col4\" class=\"data row0 col4\" >0.081629</td>\n",
       "                        <td id=\"T_4c3024c4_60f1_11ec_91c9_d0509988693erow0_col5\" class=\"data row0 col5\" >0.257307</td>\n",
       "            </tr>\n",
       "            <tr>\n",
       "                        <th id=\"T_4c3024c4_60f1_11ec_91c9_d0509988693elevel0_row1\" class=\"row_heading level0 row1\" >Pclass</th>\n",
       "                        <td id=\"T_4c3024c4_60f1_11ec_91c9_d0509988693erow1_col0\" class=\"data row1 col0\" >-0.338481</td>\n",
       "                        <td id=\"T_4c3024c4_60f1_11ec_91c9_d0509988693erow1_col1\" class=\"data row1 col1\" >1.000000</td>\n",
       "                        <td id=\"T_4c3024c4_60f1_11ec_91c9_d0509988693erow1_col2\" class=\"data row1 col2\" >-0.369226</td>\n",
       "                        <td id=\"T_4c3024c4_60f1_11ec_91c9_d0509988693erow1_col3\" class=\"data row1 col3\" >0.083081</td>\n",
       "                        <td id=\"T_4c3024c4_60f1_11ec_91c9_d0509988693erow1_col4\" class=\"data row1 col4\" >0.018443</td>\n",
       "                        <td id=\"T_4c3024c4_60f1_11ec_91c9_d0509988693erow1_col5\" class=\"data row1 col5\" >-0.549500</td>\n",
       "            </tr>\n",
       "            <tr>\n",
       "                        <th id=\"T_4c3024c4_60f1_11ec_91c9_d0509988693elevel0_row2\" class=\"row_heading level0 row2\" >Age</th>\n",
       "                        <td id=\"T_4c3024c4_60f1_11ec_91c9_d0509988693erow2_col0\" class=\"data row2 col0\" >-0.077221</td>\n",
       "                        <td id=\"T_4c3024c4_60f1_11ec_91c9_d0509988693erow2_col1\" class=\"data row2 col1\" >-0.369226</td>\n",
       "                        <td id=\"T_4c3024c4_60f1_11ec_91c9_d0509988693erow2_col2\" class=\"data row2 col2\" >1.000000</td>\n",
       "                        <td id=\"T_4c3024c4_60f1_11ec_91c9_d0509988693erow2_col3\" class=\"data row2 col3\" >-0.308247</td>\n",
       "                        <td id=\"T_4c3024c4_60f1_11ec_91c9_d0509988693erow2_col4\" class=\"data row2 col4\" >-0.189119</td>\n",
       "                        <td id=\"T_4c3024c4_60f1_11ec_91c9_d0509988693erow2_col5\" class=\"data row2 col5\" >0.096067</td>\n",
       "            </tr>\n",
       "            <tr>\n",
       "                        <th id=\"T_4c3024c4_60f1_11ec_91c9_d0509988693elevel0_row3\" class=\"row_heading level0 row3\" >SibSp</th>\n",
       "                        <td id=\"T_4c3024c4_60f1_11ec_91c9_d0509988693erow3_col0\" class=\"data row3 col0\" >-0.035322</td>\n",
       "                        <td id=\"T_4c3024c4_60f1_11ec_91c9_d0509988693erow3_col1\" class=\"data row3 col1\" >0.083081</td>\n",
       "                        <td id=\"T_4c3024c4_60f1_11ec_91c9_d0509988693erow3_col2\" class=\"data row3 col2\" >-0.308247</td>\n",
       "                        <td id=\"T_4c3024c4_60f1_11ec_91c9_d0509988693erow3_col3\" class=\"data row3 col3\" >1.000000</td>\n",
       "                        <td id=\"T_4c3024c4_60f1_11ec_91c9_d0509988693erow3_col4\" class=\"data row3 col4\" >0.414838</td>\n",
       "                        <td id=\"T_4c3024c4_60f1_11ec_91c9_d0509988693erow3_col5\" class=\"data row3 col5\" >0.159651</td>\n",
       "            </tr>\n",
       "            <tr>\n",
       "                        <th id=\"T_4c3024c4_60f1_11ec_91c9_d0509988693elevel0_row4\" class=\"row_heading level0 row4\" >Parch</th>\n",
       "                        <td id=\"T_4c3024c4_60f1_11ec_91c9_d0509988693erow4_col0\" class=\"data row4 col0\" >0.081629</td>\n",
       "                        <td id=\"T_4c3024c4_60f1_11ec_91c9_d0509988693erow4_col1\" class=\"data row4 col1\" >0.018443</td>\n",
       "                        <td id=\"T_4c3024c4_60f1_11ec_91c9_d0509988693erow4_col2\" class=\"data row4 col2\" >-0.189119</td>\n",
       "                        <td id=\"T_4c3024c4_60f1_11ec_91c9_d0509988693erow4_col3\" class=\"data row4 col3\" >0.414838</td>\n",
       "                        <td id=\"T_4c3024c4_60f1_11ec_91c9_d0509988693erow4_col4\" class=\"data row4 col4\" >1.000000</td>\n",
       "                        <td id=\"T_4c3024c4_60f1_11ec_91c9_d0509988693erow4_col5\" class=\"data row4 col5\" >0.216225</td>\n",
       "            </tr>\n",
       "            <tr>\n",
       "                        <th id=\"T_4c3024c4_60f1_11ec_91c9_d0509988693elevel0_row5\" class=\"row_heading level0 row5\" >Fare</th>\n",
       "                        <td id=\"T_4c3024c4_60f1_11ec_91c9_d0509988693erow5_col0\" class=\"data row5 col0\" >0.257307</td>\n",
       "                        <td id=\"T_4c3024c4_60f1_11ec_91c9_d0509988693erow5_col1\" class=\"data row5 col1\" >-0.549500</td>\n",
       "                        <td id=\"T_4c3024c4_60f1_11ec_91c9_d0509988693erow5_col2\" class=\"data row5 col2\" >0.096067</td>\n",
       "                        <td id=\"T_4c3024c4_60f1_11ec_91c9_d0509988693erow5_col3\" class=\"data row5 col3\" >0.159651</td>\n",
       "                        <td id=\"T_4c3024c4_60f1_11ec_91c9_d0509988693erow5_col4\" class=\"data row5 col4\" >0.216225</td>\n",
       "                        <td id=\"T_4c3024c4_60f1_11ec_91c9_d0509988693erow5_col5\" class=\"data row5 col5\" >1.000000</td>\n",
       "            </tr>\n",
       "    </tbody></table>"
      ],
      "text/plain": [
       "<pandas.io.formats.style.Styler at 0x2435425fca0>"
      ]
     },
     "execution_count": 369,
     "metadata": {},
     "output_type": "execute_result"
    }
   ],
   "source": [
    "print('Correlation Matrix:')\n",
    "corr = df_train.corr()\n",
    "corr.style.background_gradient(cmap='coolwarm')"
   ]
  },
  {
   "cell_type": "code",
   "execution_count": 370,
   "metadata": {},
   "outputs": [
    {
     "name": "stdout",
     "output_type": "stream",
     "text": [
      "[22.   38.   26.   35.     nan 54.    2.   27.   14.    4.   58.   20.\n",
      " 39.   55.   31.   34.   15.   28.    8.   19.   40.   66.   42.   21.\n",
      " 18.    3.    7.   49.   29.   65.   28.5   5.   11.   45.   17.   32.\n",
      " 16.   25.    0.83 30.   33.   23.   24.   46.   59.   71.   37.   47.\n",
      " 14.5  70.5  32.5  12.    9.   36.5  51.   55.5  40.5  44.    1.   61.\n",
      " 56.   50.   36.   45.5  20.5  62.   41.   52.   63.   23.5   0.92 43.\n",
      " 60.   10.   64.   13.   48.    0.75 53.   57.   80.   70.   24.5   6.\n",
      "  0.67 30.5   0.42 34.5  74.  ]\n"
     ]
    }
   ],
   "source": [
    "print(df_train['Age'].unique())"
   ]
  },
  {
   "cell_type": "markdown",
   "metadata": {},
   "source": [
    "## Handling NaNs:"
   ]
  },
  {
   "cell_type": "code",
   "execution_count": 371,
   "metadata": {},
   "outputs": [
    {
     "name": "stdout",
     "output_type": "stream",
     "text": [
      "Number of NaNs in Survived: 0\n",
      "Number of NaNs in Pclass: 0\n",
      "Number of NaNs in Name: 0\n",
      "Number of NaNs in Sex: 0\n",
      "Number of NaNs in Age: 177\n",
      "Number of NaNs in SibSp: 0\n",
      "Number of NaNs in Parch: 0\n",
      "Number of NaNs in Ticket: 0\n",
      "Number of NaNs in Fare: 0\n",
      "Number of NaNs in Cabin: 687\n",
      "Number of NaNs in Embarked: 2\n"
     ]
    }
   ],
   "source": [
    "def print_NaN():\n",
    "    for key in df_train.keys():\n",
    "        print(f\"Number of NaNs in {key}:\", df_train[key].isna().sum())\n",
    "        \n",
    "print_NaN()"
   ]
  },
  {
   "cell_type": "markdown",
   "metadata": {},
   "source": [
    "In the following we will remove the three columns \"Name\", \"Cabin\" and \"Ticket\", because they are not really usefull to work with. For the rest of the columns we will handle NaN values by replacing them with the mean value (for now)."
   ]
  },
  {
   "cell_type": "code",
   "execution_count": 372,
   "metadata": {},
   "outputs": [],
   "source": [
    "def create_data(dataset, add_survived=False):\n",
    "    X = pd.DataFrame()\n",
    "\n",
    "    numerical_columns = ['Pclass', 'Age', 'SibSp', 'Parch', 'Fare']\n",
    "    categorical_colums = ['Sex', 'Embarked']\n",
    "    \n",
    "    #use survived column when training LR model for nans in 'Age'\n",
    "    if add_survived:\n",
    "        numerical_columns.extend(['Survived'])\n",
    "\n",
    "    for feature in numerical_columns:\n",
    "        X[feature] = dataset[feature]\n",
    "\n",
    "    values = dataset['Sex'].values\n",
    "    values = np.where(values=='male', 0, values)\n",
    "    values = np.where(values=='female', 1, values)\n",
    "    X['Sex'] = values\n",
    "\n",
    "    X[['C','Q','S']] = pd.get_dummies(dataset['Embarked'])\n",
    "\n",
    "    \n",
    "    return X    "
   ]
  },
  {
   "cell_type": "code",
   "execution_count": null,
   "metadata": {},
   "outputs": [],
   "source": []
  },
  {
   "cell_type": "markdown",
   "metadata": {},
   "source": [
    "### first approach (alternative): using regression"
   ]
  },
  {
   "cell_type": "code",
   "execution_count": 373,
   "metadata": {},
   "outputs": [],
   "source": [
    "import math\n",
    "from sklearn.linear_model import LinearRegression\n",
    "\n",
    "#process data using linearRegression for nans in 'Age'\n",
    "def alternative_data(dataset):\n",
    "\n",
    "    data = dataset\n",
    "    data.drop(['Ticket', 'Cabin', 'Name'], axis=1)\n",
    "    data = data.dropna(subset=['Embarked'])\n",
    "    \n",
    "    nan_data = pd.DataFrame(columns=data.keys())\n",
    "    \n",
    "    for index, row in data.iterrows():\n",
    "        if math.isnan(data['Age'][index]):\n",
    "            nan_data = nan_data.append(row)\n",
    "            \n",
    "    data = data.dropna(subset=['Age'])\n",
    "    \n",
    "    nans = create_data(nan_data, add_survived=True)\n",
    "    X = create_data(data, add_survived=True)\n",
    "    train_y = X.pop('Age')\n",
    "    \n",
    "    train_x = X[[ 'SibSp', 'Parch']]  \n",
    "    \n",
    "    \n",
    "    model = LinearRegression()\n",
    "    model.fit(train_x, train_y)\n",
    "    \n",
    "    nans.drop('Age', 1, inplace=True)\n",
    "    nans['Age'] = model.predict(nans[['SibSp', 'Parch']])\n",
    "    X['Age'] = train_y.values\n",
    "    \n",
    "    \n",
    "    final_x = X.append(nans)\n",
    "    final_x.sort_index(inplace=True)\n",
    "\n",
    "    final_y = final_x.pop('Survived').astype('float')\n",
    "\n",
    "    return final_x, final_y"
   ]
  },
  {
   "cell_type": "code",
   "execution_count": 374,
   "metadata": {},
   "outputs": [],
   "source": [
    "#alternative data X and y\n",
    "X_alt, y_alt = alternative_data(df_train)"
   ]
  },
  {
   "cell_type": "code",
   "execution_count": 375,
   "metadata": {
    "scrolled": true
   },
   "outputs": [
    {
     "name": "stdout",
     "output_type": "stream",
     "text": [
      "(889, 9)\n",
      "(889,)\n"
     ]
    }
   ],
   "source": [
    "print(X_alt.shape)\n",
    "print(y_alt.shape)"
   ]
  },
  {
   "cell_type": "markdown",
   "metadata": {},
   "source": [
    "### second approach: using mean of column"
   ]
  },
  {
   "cell_type": "code",
   "execution_count": 376,
   "metadata": {},
   "outputs": [],
   "source": [
    "#drop irrelevant columns\n",
    "X_reg = df_train.drop(['Ticket', 'Cabin', 'Name'], axis=1)\n",
    "\n",
    "#replace NaN values\n",
    "X_reg.fillna(df_train.mean(), inplace=True)"
   ]
  },
  {
   "cell_type": "code",
   "execution_count": 377,
   "metadata": {
    "scrolled": true
   },
   "outputs": [
    {
     "name": "stdout",
     "output_type": "stream",
     "text": [
      "before: (891, 8)\n",
      "after: (889, 8)\n"
     ]
    }
   ],
   "source": [
    "#droping rows with NaN values in Embarked column\n",
    "print('before:', X_reg.shape)\n",
    "X_reg.dropna(inplace=True)\n",
    "print('after:', X_reg.shape)"
   ]
  },
  {
   "cell_type": "code",
   "execution_count": 378,
   "metadata": {},
   "outputs": [],
   "source": [
    "X_reg = create_data(X_reg, add_survived=True)\n",
    "\n",
    "#pop survived column\n",
    "y_reg = X_reg.pop('Survived')"
   ]
  },
  {
   "cell_type": "markdown",
   "metadata": {},
   "source": [
    "### Test-Train-Split:"
   ]
  },
  {
   "cell_type": "code",
   "execution_count": 379,
   "metadata": {},
   "outputs": [],
   "source": [
    "from sklearn.model_selection import train_test_split\n",
    "\n",
    "def get_tt_split(X, y):\n",
    "\n",
    "    X_train, X_test = train_test_split(X)\n",
    "    y_train, y_test = train_test_split(y)\n",
    "    \n",
    "    return X_train, X_test, y_train, y_test"
   ]
  },
  {
   "cell_type": "markdown",
   "metadata": {},
   "source": [
    "## Model:"
   ]
  },
  {
   "cell_type": "markdown",
   "metadata": {},
   "source": [
    "### Logistic Regression:"
   ]
  },
  {
   "cell_type": "code",
   "execution_count": 380,
   "metadata": {},
   "outputs": [
    {
     "name": "stdout",
     "output_type": "stream",
     "text": [
      "(666, 9)\n",
      "(666,)\n"
     ]
    }
   ],
   "source": [
    "from sklearn.linear_model import LogisticRegression\n",
    "\n",
    "X_train, X_test, y_train, y_test = get_tt_split(X_reg, y_reg)\n",
    "\n",
    "lr = LogisticRegression(max_iter=1000)\n",
    "lr.fit(X_train, y_train)\n",
    "print(X_train.shape)\n",
    "print(y_train.shape)\n"
   ]
  },
  {
   "cell_type": "code",
   "execution_count": 381,
   "metadata": {},
   "outputs": [
    {
     "name": "stdout",
     "output_type": "stream",
     "text": [
      "score for training data with mean: 0.6366366366366366\n",
      "score for test data with mean: 0.5964125560538116\n"
     ]
    }
   ],
   "source": [
    "print('score for training data with mean:',lr.score(X_train, y_train))\n",
    "print('score for test data with mean:', lr.score(X_test, y_test))"
   ]
  },
  {
   "cell_type": "code",
   "execution_count": 382,
   "metadata": {},
   "outputs": [
    {
     "name": "stdout",
     "output_type": "stream",
     "text": [
      "(666, 9)\n",
      "(666,)\n"
     ]
    },
    {
     "data": {
      "text/plain": [
       "LogisticRegression(max_iter=1000)"
      ]
     },
     "execution_count": 382,
     "metadata": {},
     "output_type": "execute_result"
    }
   ],
   "source": [
    "X_train2, X_test2, y_train2, y_test2 = get_tt_split(X_alt, y_alt)\n",
    "\n",
    "print(X_train2.shape)\n",
    "print(y_train2.shape)\n",
    "\n",
    "lr2 = LogisticRegression(max_iter=1000)\n",
    "lr2.fit(X_train2, y_train2)"
   ]
  },
  {
   "cell_type": "code",
   "execution_count": 383,
   "metadata": {},
   "outputs": [
    {
     "name": "stdout",
     "output_type": "stream",
     "text": [
      "score for training data with age regression: 0.6171171171171171\n",
      "score for test data with age regression: 0.6188340807174888\n"
     ]
    }
   ],
   "source": [
    "print('score for training data with age regression:',lr2.score(X_train2, y_train2))\n",
    "print('score for test data with age regression:', lr2.score(X_test2, y_test2))"
   ]
  }
 ],
 "metadata": {
  "kernelspec": {
   "display_name": "Python 3",
   "language": "python",
   "name": "python3"
  },
  "language_info": {
   "codemirror_mode": {
    "name": "ipython",
    "version": 3
   },
   "file_extension": ".py",
   "mimetype": "text/x-python",
   "name": "python",
   "nbconvert_exporter": "python",
   "pygments_lexer": "ipython3",
   "version": "3.8.5"
  }
 },
 "nbformat": 4,
 "nbformat_minor": 4
}
